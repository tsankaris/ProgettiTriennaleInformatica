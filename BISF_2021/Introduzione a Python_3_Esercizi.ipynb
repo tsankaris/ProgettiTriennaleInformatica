{
 "cells": [
  {
   "cell_type": "code",
   "execution_count": 2,
   "id": "db6add49",
   "metadata": {},
   "outputs": [],
   "source": [
    "import numpy as np\n",
    "import pandas as pd"
   ]
  },
  {
   "cell_type": "markdown",
   "id": "d811204d",
   "metadata": {},
   "source": [
    "### 1 - Esercizi sugli array"
   ]
  },
  {
   "cell_type": "markdown",
   "id": "aa31355e",
   "metadata": {},
   "source": [
    "1 - Creare un array v1 con valori 0 e lunghezza 10"
   ]
  },
  {
   "cell_type": "code",
   "execution_count": 82,
   "id": "a839810f",
   "metadata": {},
   "outputs": [
    {
     "data": {
      "text/plain": [
       "array([0, 0, 0, 0, 0, 0, 0, 0, 0, 0])"
      ]
     },
     "execution_count": 82,
     "metadata": {},
     "output_type": "execute_result"
    }
   ],
   "source": [
    "v1 = np.repeat(0,10)\n",
    "v1"
   ]
  },
  {
   "cell_type": "markdown",
   "id": "3230dd14",
   "metadata": {},
   "source": [
    "2 - Creare un vettore di numeri casuali 0,1 di lunghezza 10"
   ]
  },
  {
   "cell_type": "code",
   "execution_count": 83,
   "id": "c4b01379",
   "metadata": {},
   "outputs": [
    {
     "data": {
      "text/plain": [
       "array([1, 0, 0, 1, 1, 0, 1, 1, 1, 1])"
      ]
     },
     "execution_count": 83,
     "metadata": {},
     "output_type": "execute_result"
    }
   ],
   "source": [
    "v2 = np.random.choice([0,1],10)\n",
    "v2"
   ]
  },
  {
   "cell_type": "markdown",
   "id": "4a555514",
   "metadata": {},
   "source": [
    "3 - Trasformare v2 in booleano"
   ]
  },
  {
   "cell_type": "code",
   "execution_count": 84,
   "id": "8a0ad4b0",
   "metadata": {},
   "outputs": [
    {
     "data": {
      "text/plain": [
       "array([ True, False, False,  True,  True, False,  True,  True,  True,\n",
       "        True])"
      ]
     },
     "execution_count": 84,
     "metadata": {},
     "output_type": "execute_result"
    }
   ],
   "source": [
    "v3 = v2.astype('bool')\n",
    "v3"
   ]
  },
  {
   "cell_type": "markdown",
   "id": "968a3873",
   "metadata": {},
   "source": [
    "4 - Quali valori di v3 sono \"True\"?"
   ]
  },
  {
   "cell_type": "code",
   "execution_count": 85,
   "id": "34929508",
   "metadata": {},
   "outputs": [
    {
     "data": {
      "text/plain": [
       "(array([0, 3, 4, 6, 7, 8, 9], dtype=int64),)"
      ]
     },
     "execution_count": 85,
     "metadata": {},
     "output_type": "execute_result"
    }
   ],
   "source": [
    "np.where(v3==True)"
   ]
  },
  {
   "cell_type": "markdown",
   "id": "e8865cc0",
   "metadata": {},
   "source": [
    "5 -Selezionare tutti i valori \"False\""
   ]
  },
  {
   "cell_type": "code",
   "execution_count": 86,
   "id": "d9cfc6b8",
   "metadata": {},
   "outputs": [
    {
     "data": {
      "text/plain": [
       "array([False, False, False])"
      ]
     },
     "execution_count": 86,
     "metadata": {},
     "output_type": "execute_result"
    }
   ],
   "source": [
    "v3[np.where(v3==False)]"
   ]
  },
  {
   "cell_type": "markdown",
   "id": "1d03f96d",
   "metadata": {},
   "source": [
    "### 2 - Array categorici"
   ]
  },
  {
   "cell_type": "markdown",
   "id": "94393bf6",
   "metadata": {},
   "source": [
    "1 - Creare un vettore che contenga i termini \"adulto\", \"bambino\", \"anziano\" scelti casualmente e renderlo categorico"
   ]
  },
  {
   "cell_type": "code",
   "execution_count": 94,
   "id": "d5a59a17",
   "metadata": {},
   "outputs": [],
   "source": [
    "v4 = np.random.choice([\"adulto\",\"bambino\",\"anziano\"], 10)\n"
   ]
  },
  {
   "cell_type": "code",
   "execution_count": 95,
   "id": "669c757f",
   "metadata": {},
   "outputs": [],
   "source": [
    "v4 = pd.Categorical(v4)"
   ]
  },
  {
   "cell_type": "markdown",
   "id": "d223fd73",
   "metadata": {},
   "source": [
    "2 - Quali sono le categorie?"
   ]
  },
  {
   "cell_type": "code",
   "execution_count": 96,
   "id": "64c709c2",
   "metadata": {},
   "outputs": [
    {
     "data": {
      "text/plain": [
       "Index(['adulto', 'anziano', 'bambino'], dtype='object')"
      ]
     },
     "execution_count": 96,
     "metadata": {},
     "output_type": "execute_result"
    }
   ],
   "source": [
    "v4.categories"
   ]
  },
  {
   "cell_type": "markdown",
   "id": "4d89f057",
   "metadata": {},
   "source": [
    "3 - Riordinare le categorie"
   ]
  },
  {
   "cell_type": "code",
   "execution_count": 97,
   "id": "32f95061",
   "metadata": {},
   "outputs": [
    {
     "data": {
      "text/plain": [
       "['bambino', 'bambino', 'bambino', 'adulto', 'adulto', 'adulto', 'anziano', 'anziano', 'anziano', 'anziano']\n",
       "Categories (3, object): ['bambino' < 'adulto' < 'anziano']"
      ]
     },
     "execution_count": 97,
     "metadata": {},
     "output_type": "execute_result"
    }
   ],
   "source": [
    "v4 =  v4.reorder_categories([\"bambino\", \"adulto\", \"anziano\"], ordered = True)\n",
    "v4 = v4.sort_values()\n",
    "v4"
   ]
  },
  {
   "cell_type": "markdown",
   "id": "420f007f",
   "metadata": {},
   "source": [
    "4 - Rinominare le categorie"
   ]
  },
  {
   "cell_type": "code",
   "execution_count": 98,
   "id": "6bd110af",
   "metadata": {},
   "outputs": [],
   "source": [
    "v4 = v4.rename_categories([\"Bambino\",\"Adulto\",\"Anziano\"])"
   ]
  },
  {
   "cell_type": "code",
   "execution_count": 99,
   "id": "e8516f6c",
   "metadata": {},
   "outputs": [
    {
     "data": {
      "text/plain": [
       "Index(['Bambino', 'Adulto', 'Anziano'], dtype='object')"
      ]
     },
     "execution_count": 99,
     "metadata": {},
     "output_type": "execute_result"
    }
   ],
   "source": [
    "v4.categories"
   ]
  },
  {
   "cell_type": "markdown",
   "id": "9773c326",
   "metadata": {},
   "source": [
    "5 - Creare un nuovo array categorico che contenga anche due elementi [\"Neonato\", \"Neonato\"] ed riordinare gli elementi dal più giovane al più anziano"
   ]
  },
  {
   "cell_type": "code",
   "execution_count": 100,
   "id": "ba597fa0",
   "metadata": {},
   "outputs": [],
   "source": [
    "v5 = pd.Categorical(np.append(np.array(v4), np.array([\"Neonato\",\"Neonato\"])))"
   ]
  },
  {
   "cell_type": "code",
   "execution_count": 101,
   "id": "5113d883",
   "metadata": {},
   "outputs": [
    {
     "data": {
      "text/plain": [
       "['Neonato', 'Neonato', 'Bambino', 'Bambino', 'Bambino', ..., 'Adulto', 'Anziano', 'Anziano', 'Anziano', 'Anziano']\n",
       "Length: 12\n",
       "Categories (4, object): ['Neonato' < 'Bambino' < 'Adulto' < 'Anziano']"
      ]
     },
     "execution_count": 101,
     "metadata": {},
     "output_type": "execute_result"
    }
   ],
   "source": [
    "v5 = v5.reorder_categories([\"Neonato\", \"Bambino\", \"Adulto\", \"Anziano\"], ordered = True)\n",
    "v5 = v5.sort_values()\n",
    "v5"
   ]
  },
  {
   "cell_type": "markdown",
   "id": "70833777",
   "metadata": {},
   "source": [
    "6 - Stampare le frequenze delle diverse categorie"
   ]
  },
  {
   "cell_type": "code",
   "execution_count": 102,
   "id": "02ad674d",
   "metadata": {},
   "outputs": [
    {
     "data": {
      "text/html": [
       "<div>\n",
       "<style scoped>\n",
       "    .dataframe tbody tr th:only-of-type {\n",
       "        vertical-align: middle;\n",
       "    }\n",
       "\n",
       "    .dataframe tbody tr th {\n",
       "        vertical-align: top;\n",
       "    }\n",
       "\n",
       "    .dataframe thead th {\n",
       "        text-align: right;\n",
       "    }\n",
       "</style>\n",
       "<table border=\"1\" class=\"dataframe\">\n",
       "  <thead>\n",
       "    <tr style=\"text-align: right;\">\n",
       "      <th></th>\n",
       "      <th>counts</th>\n",
       "      <th>freqs</th>\n",
       "    </tr>\n",
       "    <tr>\n",
       "      <th>categories</th>\n",
       "      <th></th>\n",
       "      <th></th>\n",
       "    </tr>\n",
       "  </thead>\n",
       "  <tbody>\n",
       "    <tr>\n",
       "      <th>Neonato</th>\n",
       "      <td>2</td>\n",
       "      <td>0.166667</td>\n",
       "    </tr>\n",
       "    <tr>\n",
       "      <th>Bambino</th>\n",
       "      <td>3</td>\n",
       "      <td>0.250000</td>\n",
       "    </tr>\n",
       "    <tr>\n",
       "      <th>Adulto</th>\n",
       "      <td>3</td>\n",
       "      <td>0.250000</td>\n",
       "    </tr>\n",
       "    <tr>\n",
       "      <th>Anziano</th>\n",
       "      <td>4</td>\n",
       "      <td>0.333333</td>\n",
       "    </tr>\n",
       "  </tbody>\n",
       "</table>\n",
       "</div>"
      ],
      "text/plain": [
       "            counts     freqs\n",
       "categories                  \n",
       "Neonato          2  0.166667\n",
       "Bambino          3  0.250000\n",
       "Adulto           3  0.250000\n",
       "Anziano          4  0.333333"
      ]
     },
     "execution_count": 102,
     "metadata": {},
     "output_type": "execute_result"
    }
   ],
   "source": [
    "v5.describe()"
   ]
  },
  {
   "cell_type": "markdown",
   "id": "c6a06797",
   "metadata": {},
   "source": [
    "### 3 -  Valori NaN (Not a Number) "
   ]
  },
  {
   "cell_type": "markdown",
   "id": "e720a272",
   "metadata": {},
   "source": [
    "1 - Creare un array di dimensione 10 costituito da nan"
   ]
  },
  {
   "cell_type": "code",
   "execution_count": 24,
   "id": "629b226e",
   "metadata": {},
   "outputs": [
    {
     "data": {
      "text/plain": [
       "array([nan, nan, nan, nan, nan, nan, nan, nan, nan, nan])"
      ]
     },
     "execution_count": 24,
     "metadata": {},
     "output_type": "execute_result"
    }
   ],
   "source": [
    "v6 = np.repeat(np.nan, 10)\n",
    "v6"
   ]
  },
  {
   "cell_type": "markdown",
   "id": "3b4d20d7",
   "metadata": {},
   "source": [
    "2 - Sostituire i valori con posizione [3,4,5,9] con i valori 1,2,3,4"
   ]
  },
  {
   "cell_type": "code",
   "execution_count": 26,
   "id": "05b4076e",
   "metadata": {},
   "outputs": [
    {
     "data": {
      "text/plain": [
       "array([nan, nan,  1.,  2.,  3., nan, nan, nan,  4., nan])"
      ]
     },
     "execution_count": 26,
     "metadata": {},
     "output_type": "execute_result"
    }
   ],
   "source": [
    "v6[[2,3,4,8]] = np.array([1,2,3,4])\n",
    "v6"
   ]
  },
  {
   "cell_type": "markdown",
   "id": "0285eba7",
   "metadata": {},
   "source": [
    "3 - Aggiungere 5 valori casuali [Nan, 42] alla coda di v6 e contare quanti Nan ci sono"
   ]
  },
  {
   "cell_type": "code",
   "execution_count": 28,
   "id": "d56c3b4a",
   "metadata": {},
   "outputs": [
    {
     "data": {
      "text/plain": [
       "array([42., nan, 42., nan, 42.])"
      ]
     },
     "execution_count": 28,
     "metadata": {},
     "output_type": "execute_result"
    }
   ],
   "source": [
    "randomvalues = np.random.choice([np.nan, 42], 5)\n",
    "randomvalues"
   ]
  },
  {
   "cell_type": "code",
   "execution_count": 29,
   "id": "9af4466a",
   "metadata": {},
   "outputs": [
    {
     "data": {
      "text/plain": [
       "array([nan, nan,  1.,  2.,  3., nan, nan, nan,  4., nan, 42., nan, 42.,\n",
       "       nan, 42.])"
      ]
     },
     "execution_count": 29,
     "metadata": {},
     "output_type": "execute_result"
    }
   ],
   "source": [
    "v6 = np.append(v6, randomvalues)\n",
    "v6"
   ]
  },
  {
   "cell_type": "code",
   "execution_count": 30,
   "id": "26671e24",
   "metadata": {},
   "outputs": [
    {
     "data": {
      "text/plain": [
       "8"
      ]
     },
     "execution_count": 30,
     "metadata": {},
     "output_type": "execute_result"
    }
   ],
   "source": [
    "np.isnan(v6).sum()"
   ]
  },
  {
   "cell_type": "code",
   "execution_count": 32,
   "id": "c69e0e8f",
   "metadata": {},
   "outputs": [
    {
     "data": {
      "text/plain": [
       "8"
      ]
     },
     "execution_count": 32,
     "metadata": {},
     "output_type": "execute_result"
    }
   ],
   "source": [
    "len(np.where(np.isnan(v6)==True)[0])"
   ]
  },
  {
   "cell_type": "markdown",
   "id": "f959ebdc",
   "metadata": {},
   "source": [
    "4 - Sostituire i valori mancanti con il numero 10"
   ]
  },
  {
   "cell_type": "code",
   "execution_count": 33,
   "id": "406c042a",
   "metadata": {},
   "outputs": [
    {
     "data": {
      "text/plain": [
       "array([10., 10.,  1.,  2.,  3., 10., 10., 10.,  4., 10., 42., 10., 42.,\n",
       "       10., 42.])"
      ]
     },
     "execution_count": 33,
     "metadata": {},
     "output_type": "execute_result"
    }
   ],
   "source": [
    "v6[np.isnan(v6)] = 10\n",
    "v6"
   ]
  },
  {
   "cell_type": "markdown",
   "id": "687f0a65",
   "metadata": {},
   "source": [
    "### 4 - Liste"
   ]
  },
  {
   "cell_type": "markdown",
   "id": "de8c2a0c",
   "metadata": {},
   "source": [
    "1 - Creare una lista l1 con i seguenti elementi h, e, 1, 1, 0"
   ]
  },
  {
   "cell_type": "code",
   "execution_count": 108,
   "id": "56ff98fb",
   "metadata": {},
   "outputs": [
    {
     "data": {
      "text/plain": [
       "['h', 'e', 1, 1, 0]"
      ]
     },
     "execution_count": 108,
     "metadata": {},
     "output_type": "execute_result"
    }
   ],
   "source": [
    "l1 = list([\"h\", \"e\", 1, 1, 0])\n",
    "l1"
   ]
  },
  {
   "cell_type": "markdown",
   "id": "807af3ea",
   "metadata": {},
   "source": [
    "2 - Trovare gli elementi in posizione 0, 2 e 3 e l'ultimo elemento"
   ]
  },
  {
   "cell_type": "code",
   "execution_count": 109,
   "id": "c7e63f13",
   "metadata": {},
   "outputs": [
    {
     "data": {
      "text/plain": [
       "['h', 1, 1]"
      ]
     },
     "execution_count": 109,
     "metadata": {},
     "output_type": "execute_result"
    }
   ],
   "source": [
    "[l1[i] for i in (0,2,3)]"
   ]
  },
  {
   "cell_type": "code",
   "execution_count": 110,
   "id": "d1e40202",
   "metadata": {},
   "outputs": [
    {
     "data": {
      "text/plain": [
       "0"
      ]
     },
     "execution_count": 110,
     "metadata": {},
     "output_type": "execute_result"
    }
   ],
   "source": [
    "l1[-1]"
   ]
  },
  {
   "cell_type": "markdown",
   "id": "2916a1b4",
   "metadata": {},
   "source": [
    "3 - Creare una lista l2 che contenga\n",
    "- un vettore di numeri [1,2,3,4,5]\n",
    "- un vettore categorico [\"bambino\", \"adulto\", \"anziano\"]\n",
    "- un vettore booleano [True, False, True]\n",
    "- una lista composta dai seguenti elementi [1, \"3\", True]\n"
   ]
  },
  {
   "cell_type": "code",
   "execution_count": 116,
   "id": "70ecf280",
   "metadata": {},
   "outputs": [
    {
     "data": {
      "text/plain": [
       "[array([1, 2, 3, 4, 5]),\n",
       " ['bambino', 'adulto', 'anziano']\n",
       " Categories (3, object): ['adulto', 'anziano', 'bambino'],\n",
       " array([ True, False, False]),\n",
       " [1, '3', True]]"
      ]
     },
     "execution_count": 116,
     "metadata": {},
     "output_type": "execute_result"
    }
   ],
   "source": [
    "c1 = np.array([1,2,3,4,5])\n",
    "c2 = pd.Categorical([\"bambino\", \"adulto\", \"anziano\"])\n",
    "c3 = np.array([True, False, False])\n",
    "c4 = list([1, \"3\", True])\n",
    "l2 = [c1, c2, c3, c4]\n",
    "l2"
   ]
  },
  {
   "cell_type": "markdown",
   "id": "0a8ac42c",
   "metadata": {},
   "source": [
    "### 5 - Esercizi sulle matrici - 1"
   ]
  },
  {
   "cell_type": "markdown",
   "id": "6ec44b79",
   "metadata": {},
   "source": [
    "1 - Creare una matrice m1 vuota con 7 righe e 5 colonne"
   ]
  },
  {
   "cell_type": "code",
   "execution_count": 105,
   "id": "04736949",
   "metadata": {},
   "outputs": [
    {
     "data": {
      "text/plain": [
       "array([[0., 0., 0., 0., 0.],\n",
       "       [0., 0., 0., 0., 0.],\n",
       "       [0., 0., 0., 0., 0.],\n",
       "       [0., 0., 0., 0., 0.],\n",
       "       [0., 0., 0., 0., 0.],\n",
       "       [0., 0., 0., 0., 0.],\n",
       "       [0., 0., 0., 0., 0.]])"
      ]
     },
     "execution_count": 105,
     "metadata": {},
     "output_type": "execute_result"
    }
   ],
   "source": [
    "m1 = np.round(np.empty((7,5)),0)\n",
    "m1"
   ]
  },
  {
   "cell_type": "markdown",
   "id": "8fc579ad",
   "metadata": {},
   "source": [
    "2 - Stampare le dimensioni e il numero di valori nella matrice"
   ]
  },
  {
   "cell_type": "code",
   "execution_count": 106,
   "id": "83a48dfa",
   "metadata": {},
   "outputs": [
    {
     "data": {
      "text/plain": [
       "(7, 5)"
      ]
     },
     "execution_count": 106,
     "metadata": {},
     "output_type": "execute_result"
    }
   ],
   "source": [
    "m1.shape"
   ]
  },
  {
   "cell_type": "code",
   "execution_count": 107,
   "id": "ab065a04",
   "metadata": {},
   "outputs": [
    {
     "data": {
      "text/plain": [
       "35"
      ]
     },
     "execution_count": 107,
     "metadata": {},
     "output_type": "execute_result"
    }
   ],
   "source": [
    "m1.size"
   ]
  },
  {
   "cell_type": "markdown",
   "id": "a3bc8469",
   "metadata": {},
   "source": [
    "3- Modi diversi di creare una matrici"
   ]
  },
  {
   "cell_type": "code",
   "execution_count": 6,
   "id": "e05e99d9",
   "metadata": {},
   "outputs": [
    {
     "data": {
      "text/plain": [
       "matrix([[1, 0, 0],\n",
       "        [0, 2, 0],\n",
       "        [0, 0, 3]])"
      ]
     },
     "execution_count": 6,
     "metadata": {},
     "output_type": "execute_result"
    }
   ],
   "source": [
    "m2 = np.matrix(\"1,0,0;0,2,0;0,0,3\")\n",
    "m2"
   ]
  },
  {
   "cell_type": "code",
   "execution_count": 7,
   "id": "02d59574",
   "metadata": {},
   "outputs": [
    {
     "data": {
      "text/plain": [
       "matrix([[1, 2, 1],\n",
       "        [2, 1, 2]])"
      ]
     },
     "execution_count": 7,
     "metadata": {},
     "output_type": "execute_result"
    }
   ],
   "source": [
    "m3 = np.matrix([1,2,1,2,1,2]).reshape((2,3))\n",
    "m3"
   ]
  },
  {
   "cell_type": "code",
   "execution_count": 8,
   "id": "f4e159e4",
   "metadata": {},
   "outputs": [
    {
     "data": {
      "text/plain": [
       "array([[4, 2],\n",
       "       [0, 0],\n",
       "       [2, 4]])"
      ]
     },
     "execution_count": 8,
     "metadata": {},
     "output_type": "execute_result"
    }
   ],
   "source": [
    "m3 = np.array([4,2,0,0,2,4]).reshape((3,2))\n",
    "m3"
   ]
  },
  {
   "cell_type": "code",
   "execution_count": 11,
   "id": "62a58ca6",
   "metadata": {},
   "outputs": [
    {
     "data": {
      "text/plain": [
       "2"
      ]
     },
     "execution_count": 11,
     "metadata": {},
     "output_type": "execute_result"
    }
   ],
   "source": [
    "m3.shape[1]"
   ]
  },
  {
   "cell_type": "markdown",
   "id": "37ddb52b",
   "metadata": {},
   "source": [
    "### 6 - Operazioni varie sulle matrici"
   ]
  },
  {
   "cell_type": "markdown",
   "id": "22c9bf00",
   "metadata": {},
   "source": [
    "1 - Creare un matrice di valori 0 di 5 righe e 3 colonne "
   ]
  },
  {
   "cell_type": "code",
   "execution_count": 46,
   "id": "0c47e2ba",
   "metadata": {},
   "outputs": [
    {
     "data": {
      "text/plain": [
       "array([[0, 0, 0],\n",
       "       [0, 0, 0],\n",
       "       [0, 0, 0],\n",
       "       [0, 0, 0],\n",
       "       [0, 0, 0]])"
      ]
     },
     "execution_count": 46,
     "metadata": {},
     "output_type": "execute_result"
    }
   ],
   "source": [
    "m4 = np.repeat(0,15).reshape((5,3))\n",
    "m4"
   ]
  },
  {
   "cell_type": "markdown",
   "id": "97229aaa",
   "metadata": {},
   "source": [
    "altro modo di fare lo stess"
   ]
  },
  {
   "cell_type": "code",
   "execution_count": 117,
   "id": "169ee381",
   "metadata": {},
   "outputs": [
    {
     "data": {
      "text/plain": [
       "array([[0., 0., 0.],\n",
       "       [0., 0., 0.],\n",
       "       [0., 0., 0.],\n",
       "       [0., 0., 0.],\n",
       "       [0., 0., 0.]])"
      ]
     },
     "execution_count": 117,
     "metadata": {},
     "output_type": "execute_result"
    }
   ],
   "source": [
    "m5 = np.zeros((5,3))\n",
    "m5"
   ]
  },
  {
   "cell_type": "markdown",
   "id": "990ab3aa",
   "metadata": {},
   "source": [
    "2 - Creare una matrice di dimensioni 4x4 composta da questi valori [21,30,36,17,45,12,14,31,15,50,\n",
    "      22,29,22,33,13,40] e calcolarne il quadrato"
   ]
  },
  {
   "cell_type": "code",
   "execution_count": 118,
   "id": "1023ee88",
   "metadata": {},
   "outputs": [
    {
     "data": {
      "text/plain": [
       "array([[21, 30, 36, 17],\n",
       "       [45, 12, 14, 31],\n",
       "       [15, 50, 22, 29],\n",
       "       [22, 33, 13, 40]])"
      ]
     },
     "execution_count": 118,
     "metadata": {},
     "output_type": "execute_result"
    }
   ],
   "source": [
    "m7 = np.array([21,30,36,17,45,12,14,31,15,50,\n",
    "      22,29,22,33,13,40]).reshape((4,4))\n",
    "m7"
   ]
  },
  {
   "cell_type": "code",
   "execution_count": 119,
   "id": "69413b0d",
   "metadata": {},
   "outputs": [
    {
     "data": {
      "text/plain": [
       "array([[ 441,  900, 1296,  289],\n",
       "       [2025,  144,  196,  961],\n",
       "       [ 225, 2500,  484,  841],\n",
       "       [ 484, 1089,  169, 1600]], dtype=int32)"
      ]
     },
     "execution_count": 119,
     "metadata": {},
     "output_type": "execute_result"
    }
   ],
   "source": [
    "np.power(m7,2)"
   ]
  },
  {
   "cell_type": "markdown",
   "id": "0552a74e",
   "metadata": {},
   "source": [
    "3 - Estrarre i valori [14, 22,13] dalla matrice m7"
   ]
  },
  {
   "cell_type": "code",
   "execution_count": 25,
   "id": "36004e40",
   "metadata": {},
   "outputs": [
    {
     "data": {
      "text/plain": [
       "array([14, 22, 13])"
      ]
     },
     "execution_count": 25,
     "metadata": {},
     "output_type": "execute_result"
    }
   ],
   "source": [
    "m7[1:,2]"
   ]
  },
  {
   "cell_type": "markdown",
   "id": "e614ab55",
   "metadata": {},
   "source": [
    "4 - Ottenere l'ultima riga di m7"
   ]
  },
  {
   "cell_type": "code",
   "execution_count": 26,
   "id": "a1c956c4",
   "metadata": {},
   "outputs": [
    {
     "data": {
      "text/plain": [
       "array([22, 33, 13, 40])"
      ]
     },
     "execution_count": 26,
     "metadata": {},
     "output_type": "execute_result"
    }
   ],
   "source": [
    "m7[-1,:]"
   ]
  },
  {
   "cell_type": "markdown",
   "id": "994c8a97",
   "metadata": {},
   "source": [
    "5 - Aggiungere a m7 una riga con valori 0 e aggiungere una nuova colonna con valori 1"
   ]
  },
  {
   "cell_type": "code",
   "execution_count": 21,
   "id": "bf25bdca",
   "metadata": {},
   "outputs": [],
   "source": [
    "import pandas as pd"
   ]
  },
  {
   "cell_type": "code",
   "execution_count": 27,
   "id": "e865c0c1",
   "metadata": {},
   "outputs": [
    {
     "data": {
      "text/plain": [
       "4"
      ]
     },
     "execution_count": 27,
     "metadata": {},
     "output_type": "execute_result"
    }
   ],
   "source": [
    "num_col = len(m7[:,1])\n",
    "num_col"
   ]
  },
  {
   "cell_type": "code",
   "execution_count": 28,
   "id": "a6d5918e",
   "metadata": {},
   "outputs": [
    {
     "data": {
      "text/plain": [
       "(4, 4)"
      ]
     },
     "execution_count": 28,
     "metadata": {},
     "output_type": "execute_result"
    }
   ],
   "source": [
    "m7.shape"
   ]
  },
  {
   "cell_type": "code",
   "execution_count": 29,
   "id": "9554ce82",
   "metadata": {},
   "outputs": [
    {
     "data": {
      "text/plain": [
       "4"
      ]
     },
     "execution_count": 29,
     "metadata": {},
     "output_type": "execute_result"
    }
   ],
   "source": [
    "m7.shape[1]"
   ]
  },
  {
   "cell_type": "code",
   "execution_count": 13,
   "id": "ffe94750",
   "metadata": {},
   "outputs": [
    {
     "data": {
      "text/plain": [
       "array([[1.],\n",
       "       [1.],\n",
       "       [1.],\n",
       "       [1.]])"
      ]
     },
     "execution_count": 13,
     "metadata": {},
     "output_type": "execute_result"
    }
   ],
   "source": [
    "new_column = np.ones((1, m7.shape[1])).T\n",
    "new_column"
   ]
  },
  {
   "cell_type": "code",
   "execution_count": 14,
   "id": "e8c784f4",
   "metadata": {},
   "outputs": [],
   "source": [
    "m7 = np.hstack((m7,new_column))"
   ]
  },
  {
   "cell_type": "code",
   "execution_count": 15,
   "id": "1f247e5c",
   "metadata": {},
   "outputs": [
    {
     "data": {
      "text/plain": [
       "array([[21., 30., 36., 17.,  1.],\n",
       "       [45., 12., 14., 31.,  1.],\n",
       "       [15., 50., 22., 29.,  1.],\n",
       "       [22., 33., 13., 40.,  1.]])"
      ]
     },
     "execution_count": 15,
     "metadata": {},
     "output_type": "execute_result"
    }
   ],
   "source": [
    "m7"
   ]
  },
  {
   "cell_type": "code",
   "execution_count": 16,
   "id": "70d83f25",
   "metadata": {},
   "outputs": [
    {
     "data": {
      "text/plain": [
       "array([[0., 0., 0., 0., 0.]])"
      ]
     },
     "execution_count": 16,
     "metadata": {},
     "output_type": "execute_result"
    }
   ],
   "source": [
    "new_row = np.zeros((1, m7.shape[0]+1))\n",
    "new_row"
   ]
  },
  {
   "cell_type": "code",
   "execution_count": 17,
   "id": "9caf5168",
   "metadata": {},
   "outputs": [
    {
     "data": {
      "text/plain": [
       "array([[21., 30., 36., 17.,  1.],\n",
       "       [45., 12., 14., 31.,  1.],\n",
       "       [15., 50., 22., 29.,  1.],\n",
       "       [22., 33., 13., 40.,  1.],\n",
       "       [ 0.,  0.,  0.,  0.,  0.]])"
      ]
     },
     "execution_count": 17,
     "metadata": {},
     "output_type": "execute_result"
    }
   ],
   "source": [
    "m7 = np.vstack((m7, new_row))\n",
    "m7"
   ]
  },
  {
   "cell_type": "markdown",
   "id": "80295595",
   "metadata": {},
   "source": [
    "### 7 - Creazione di dataframe con diversi tipi di valori"
   ]
  },
  {
   "cell_type": "markdown",
   "id": "a6e4f8d1",
   "metadata": {},
   "source": [
    "1 - Creare un dataframe con tre colonne \n",
    "- name: [\"Monica\", \"Alberto\",\"Bruno\", \"Ilaria\", \"Antonio\"]\n",
    "- age: [10,20,5,36,80]\n",
    "- category: [\"bambino\",\"adulto\", \"bambino\",\"adulto\",\"anziano\"]"
   ]
  },
  {
   "cell_type": "code",
   "execution_count": 121,
   "id": "cb0921cc",
   "metadata": {},
   "outputs": [
    {
     "data": {
      "text/html": [
       "<div>\n",
       "<style scoped>\n",
       "    .dataframe tbody tr th:only-of-type {\n",
       "        vertical-align: middle;\n",
       "    }\n",
       "\n",
       "    .dataframe tbody tr th {\n",
       "        vertical-align: top;\n",
       "    }\n",
       "\n",
       "    .dataframe thead th {\n",
       "        text-align: right;\n",
       "    }\n",
       "</style>\n",
       "<table border=\"1\" class=\"dataframe\">\n",
       "  <thead>\n",
       "    <tr style=\"text-align: right;\">\n",
       "      <th></th>\n",
       "      <th>name</th>\n",
       "      <th>age</th>\n",
       "      <th>category</th>\n",
       "    </tr>\n",
       "  </thead>\n",
       "  <tbody>\n",
       "    <tr>\n",
       "      <th>0</th>\n",
       "      <td>Monica</td>\n",
       "      <td>10</td>\n",
       "      <td>bambino</td>\n",
       "    </tr>\n",
       "    <tr>\n",
       "      <th>1</th>\n",
       "      <td>Alberto</td>\n",
       "      <td>20</td>\n",
       "      <td>adulto</td>\n",
       "    </tr>\n",
       "    <tr>\n",
       "      <th>2</th>\n",
       "      <td>Bruno</td>\n",
       "      <td>5</td>\n",
       "      <td>bambino</td>\n",
       "    </tr>\n",
       "    <tr>\n",
       "      <th>3</th>\n",
       "      <td>Ilaria</td>\n",
       "      <td>36</td>\n",
       "      <td>adulto</td>\n",
       "    </tr>\n",
       "    <tr>\n",
       "      <th>4</th>\n",
       "      <td>Antonio</td>\n",
       "      <td>80</td>\n",
       "      <td>anziano</td>\n",
       "    </tr>\n",
       "  </tbody>\n",
       "</table>\n",
       "</div>"
      ],
      "text/plain": [
       "      name  age category\n",
       "0   Monica   10  bambino\n",
       "1  Alberto   20   adulto\n",
       "2    Bruno    5  bambino\n",
       "3   Ilaria   36   adulto\n",
       "4  Antonio   80  anziano"
      ]
     },
     "execution_count": 121,
     "metadata": {},
     "output_type": "execute_result"
    }
   ],
   "source": [
    "name = np.array([\"Monica\", \"Alberto\",\"Bruno\", \"Ilaria\", \"Antonio\"])\n",
    "age = np.array([10,20,5,36,80])\n",
    "category = pd.Categorical([\"bambino\",\"adulto\", \"bambino\",\"adulto\",\"anziano\"])\n",
    "category = category.reorder_categories([\"bambino\", \"adulto\",\"anziano\"], ordered = True)\n",
    "data = {\"name\": name, \"age\": age, \"category\": category}\n",
    "df1 = pd.DataFrame(data)\n",
    "df1"
   ]
  },
  {
   "cell_type": "markdown",
   "id": "c7a032ff",
   "metadata": {},
   "source": [
    "2 - Aggiungere la colonna \"gender\""
   ]
  },
  {
   "cell_type": "code",
   "execution_count": 122,
   "id": "41a8a093",
   "metadata": {},
   "outputs": [],
   "source": [
    "\n",
    "df1[\"gender\"] = pd.Categorical([\"F\",\"M\",\"M\",\"F\",\"M\"])"
   ]
  },
  {
   "cell_type": "code",
   "execution_count": 123,
   "id": "c4871d8f",
   "metadata": {},
   "outputs": [
    {
     "data": {
      "text/html": [
       "<div>\n",
       "<style scoped>\n",
       "    .dataframe tbody tr th:only-of-type {\n",
       "        vertical-align: middle;\n",
       "    }\n",
       "\n",
       "    .dataframe tbody tr th {\n",
       "        vertical-align: top;\n",
       "    }\n",
       "\n",
       "    .dataframe thead th {\n",
       "        text-align: right;\n",
       "    }\n",
       "</style>\n",
       "<table border=\"1\" class=\"dataframe\">\n",
       "  <thead>\n",
       "    <tr style=\"text-align: right;\">\n",
       "      <th></th>\n",
       "      <th>name</th>\n",
       "      <th>age</th>\n",
       "      <th>category</th>\n",
       "      <th>gender</th>\n",
       "    </tr>\n",
       "  </thead>\n",
       "  <tbody>\n",
       "    <tr>\n",
       "      <th>0</th>\n",
       "      <td>Monica</td>\n",
       "      <td>10</td>\n",
       "      <td>bambino</td>\n",
       "      <td>F</td>\n",
       "    </tr>\n",
       "    <tr>\n",
       "      <th>1</th>\n",
       "      <td>Alberto</td>\n",
       "      <td>20</td>\n",
       "      <td>adulto</td>\n",
       "      <td>M</td>\n",
       "    </tr>\n",
       "    <tr>\n",
       "      <th>2</th>\n",
       "      <td>Bruno</td>\n",
       "      <td>5</td>\n",
       "      <td>bambino</td>\n",
       "      <td>M</td>\n",
       "    </tr>\n",
       "    <tr>\n",
       "      <th>3</th>\n",
       "      <td>Ilaria</td>\n",
       "      <td>36</td>\n",
       "      <td>adulto</td>\n",
       "      <td>F</td>\n",
       "    </tr>\n",
       "    <tr>\n",
       "      <th>4</th>\n",
       "      <td>Antonio</td>\n",
       "      <td>80</td>\n",
       "      <td>anziano</td>\n",
       "      <td>M</td>\n",
       "    </tr>\n",
       "  </tbody>\n",
       "</table>\n",
       "</div>"
      ],
      "text/plain": [
       "      name  age category gender\n",
       "0   Monica   10  bambino      F\n",
       "1  Alberto   20   adulto      M\n",
       "2    Bruno    5  bambino      M\n",
       "3   Ilaria   36   adulto      F\n",
       "4  Antonio   80  anziano      M"
      ]
     },
     "execution_count": 123,
     "metadata": {},
     "output_type": "execute_result"
    }
   ],
   "source": [
    "df1"
   ]
  },
  {
   "cell_type": "markdown",
   "id": "f602ce7f",
   "metadata": {},
   "source": [
    "3 - Aggiungere una nuova persona, di nome Francesco e anni 55 (adulto)"
   ]
  },
  {
   "cell_type": "code",
   "execution_count": 124,
   "id": "32a67ebf",
   "metadata": {},
   "outputs": [],
   "source": [
    "df1 = df1.append({\"name\": \"Francesco\", \"age\": 55, \"category\": \"adulto\", \"gender\": \"M\"}, ignore_index = True)"
   ]
  },
  {
   "cell_type": "code",
   "execution_count": 125,
   "id": "aa140f89",
   "metadata": {},
   "outputs": [
    {
     "data": {
      "text/html": [
       "<div>\n",
       "<style scoped>\n",
       "    .dataframe tbody tr th:only-of-type {\n",
       "        vertical-align: middle;\n",
       "    }\n",
       "\n",
       "    .dataframe tbody tr th {\n",
       "        vertical-align: top;\n",
       "    }\n",
       "\n",
       "    .dataframe thead th {\n",
       "        text-align: right;\n",
       "    }\n",
       "</style>\n",
       "<table border=\"1\" class=\"dataframe\">\n",
       "  <thead>\n",
       "    <tr style=\"text-align: right;\">\n",
       "      <th></th>\n",
       "      <th>name</th>\n",
       "      <th>age</th>\n",
       "      <th>category</th>\n",
       "      <th>gender</th>\n",
       "    </tr>\n",
       "  </thead>\n",
       "  <tbody>\n",
       "    <tr>\n",
       "      <th>0</th>\n",
       "      <td>Monica</td>\n",
       "      <td>10</td>\n",
       "      <td>bambino</td>\n",
       "      <td>F</td>\n",
       "    </tr>\n",
       "    <tr>\n",
       "      <th>1</th>\n",
       "      <td>Alberto</td>\n",
       "      <td>20</td>\n",
       "      <td>adulto</td>\n",
       "      <td>M</td>\n",
       "    </tr>\n",
       "    <tr>\n",
       "      <th>2</th>\n",
       "      <td>Bruno</td>\n",
       "      <td>5</td>\n",
       "      <td>bambino</td>\n",
       "      <td>M</td>\n",
       "    </tr>\n",
       "    <tr>\n",
       "      <th>3</th>\n",
       "      <td>Ilaria</td>\n",
       "      <td>36</td>\n",
       "      <td>adulto</td>\n",
       "      <td>F</td>\n",
       "    </tr>\n",
       "    <tr>\n",
       "      <th>4</th>\n",
       "      <td>Antonio</td>\n",
       "      <td>80</td>\n",
       "      <td>anziano</td>\n",
       "      <td>M</td>\n",
       "    </tr>\n",
       "    <tr>\n",
       "      <th>5</th>\n",
       "      <td>Francesco</td>\n",
       "      <td>55</td>\n",
       "      <td>adulto</td>\n",
       "      <td>M</td>\n",
       "    </tr>\n",
       "  </tbody>\n",
       "</table>\n",
       "</div>"
      ],
      "text/plain": [
       "        name  age category gender\n",
       "0     Monica   10  bambino      F\n",
       "1    Alberto   20   adulto      M\n",
       "2      Bruno    5  bambino      M\n",
       "3     Ilaria   36   adulto      F\n",
       "4    Antonio   80  anziano      M\n",
       "5  Francesco   55   adulto      M"
      ]
     },
     "execution_count": 125,
     "metadata": {},
     "output_type": "execute_result"
    }
   ],
   "source": [
    "df1"
   ]
  },
  {
   "cell_type": "markdown",
   "id": "d895bd5a",
   "metadata": {},
   "source": [
    "### 8 -  DataFrame "
   ]
  },
  {
   "cell_type": "markdown",
   "id": "bd2aff70",
   "metadata": {},
   "source": [
    "1 - Caricare un file excel o csv come dataframe e verificare che è proprio un dataframe"
   ]
  },
  {
   "cell_type": "code",
   "execution_count": 4,
   "id": "d469e228",
   "metadata": {},
   "outputs": [],
   "source": [
    "import pandas as pd\n",
    "#df2 = pd.read_csv(\"nome file\")\n",
    "df2 = pd.read_excel(\"dati_indici_20211103.xlsx\")"
   ]
  },
  {
   "cell_type": "code",
   "execution_count": 5,
   "id": "38c0e6c4",
   "metadata": {},
   "outputs": [
    {
     "data": {
      "text/plain": [
       "pandas.core.frame.DataFrame"
      ]
     },
     "execution_count": 5,
     "metadata": {},
     "output_type": "execute_result"
    }
   ],
   "source": [
    "type(df2)"
   ]
  },
  {
   "cell_type": "code",
   "execution_count": 6,
   "id": "5178cd0c",
   "metadata": {},
   "outputs": [
    {
     "data": {
      "text/html": [
       "<div>\n",
       "<style scoped>\n",
       "    .dataframe tbody tr th:only-of-type {\n",
       "        vertical-align: middle;\n",
       "    }\n",
       "\n",
       "    .dataframe tbody tr th {\n",
       "        vertical-align: top;\n",
       "    }\n",
       "\n",
       "    .dataframe thead th {\n",
       "        text-align: right;\n",
       "    }\n",
       "</style>\n",
       "<table border=\"1\" class=\"dataframe\">\n",
       "  <thead>\n",
       "    <tr style=\"text-align: right;\">\n",
       "      <th></th>\n",
       "      <th>DATA</th>\n",
       "      <th>JPCAEU3M</th>\n",
       "      <th>LG13TREH</th>\n",
       "      <th>LBEATREU</th>\n",
       "      <th>LEGATREH</th>\n",
       "      <th>NDDUWI</th>\n",
       "      <th>MXWOHEUR</th>\n",
       "      <th>NDUEEGF</th>\n",
       "      <th>NCUDWI</th>\n",
       "    </tr>\n",
       "  </thead>\n",
       "  <tbody>\n",
       "    <tr>\n",
       "      <th>0</th>\n",
       "      <td>1999-01-31</td>\n",
       "      <td>0.002894</td>\n",
       "      <td>0.000000</td>\n",
       "      <td>0.013556</td>\n",
       "      <td>0.014568</td>\n",
       "      <td>0.060804</td>\n",
       "      <td>0.033060</td>\n",
       "      <td>0.027897</td>\n",
       "      <td>0.039463</td>\n",
       "    </tr>\n",
       "    <tr>\n",
       "      <th>1</th>\n",
       "      <td>1999-02-28</td>\n",
       "      <td>0.002295</td>\n",
       "      <td>0.005009</td>\n",
       "      <td>-0.011451</td>\n",
       "      <td>-0.014557</td>\n",
       "      <td>0.003298</td>\n",
       "      <td>-0.014425</td>\n",
       "      <td>0.040799</td>\n",
       "      <td>-0.014921</td>\n",
       "    </tr>\n",
       "    <tr>\n",
       "      <th>2</th>\n",
       "      <td>1999-03-31</td>\n",
       "      <td>0.003112</td>\n",
       "      <td>-0.001575</td>\n",
       "      <td>0.006580</td>\n",
       "      <td>0.006532</td>\n",
       "      <td>0.061535</td>\n",
       "      <td>0.044016</td>\n",
       "      <td>0.153928</td>\n",
       "      <td>0.058550</td>\n",
       "    </tr>\n",
       "    <tr>\n",
       "      <th>3</th>\n",
       "      <td>1999-04-30</td>\n",
       "      <td>0.003203</td>\n",
       "      <td>0.005897</td>\n",
       "      <td>0.010771</td>\n",
       "      <td>0.006090</td>\n",
       "      <td>0.061479</td>\n",
       "      <td>0.043849</td>\n",
       "      <td>0.147651</td>\n",
       "      <td>0.100637</td>\n",
       "    </tr>\n",
       "    <tr>\n",
       "      <th>4</th>\n",
       "      <td>1999-05-31</td>\n",
       "      <td>0.002236</td>\n",
       "      <td>0.004197</td>\n",
       "      <td>-0.005647</td>\n",
       "      <td>-0.007740</td>\n",
       "      <td>-0.024039</td>\n",
       "      <td>-0.030806</td>\n",
       "      <td>0.007252</td>\n",
       "      <td>0.001808</td>\n",
       "    </tr>\n",
       "  </tbody>\n",
       "</table>\n",
       "</div>"
      ],
      "text/plain": [
       "        DATA  JPCAEU3M  LG13TREH  LBEATREU  LEGATREH    NDDUWI  MXWOHEUR  \\\n",
       "0 1999-01-31  0.002894  0.000000  0.013556  0.014568  0.060804  0.033060   \n",
       "1 1999-02-28  0.002295  0.005009 -0.011451 -0.014557  0.003298 -0.014425   \n",
       "2 1999-03-31  0.003112 -0.001575  0.006580  0.006532  0.061535  0.044016   \n",
       "3 1999-04-30  0.003203  0.005897  0.010771  0.006090  0.061479  0.043849   \n",
       "4 1999-05-31  0.002236  0.004197 -0.005647 -0.007740 -0.024039 -0.030806   \n",
       "\n",
       "    NDUEEGF    NCUDWI  \n",
       "0  0.027897  0.039463  \n",
       "1  0.040799 -0.014921  \n",
       "2  0.153928  0.058550  \n",
       "3  0.147651  0.100637  \n",
       "4  0.007252  0.001808  "
      ]
     },
     "execution_count": 6,
     "metadata": {},
     "output_type": "execute_result"
    }
   ],
   "source": [
    "df2.head()"
   ]
  },
  {
   "cell_type": "code",
   "execution_count": 7,
   "id": "aa707f18",
   "metadata": {},
   "outputs": [
    {
     "data": {
      "text/html": [
       "<div>\n",
       "<style scoped>\n",
       "    .dataframe tbody tr th:only-of-type {\n",
       "        vertical-align: middle;\n",
       "    }\n",
       "\n",
       "    .dataframe tbody tr th {\n",
       "        vertical-align: top;\n",
       "    }\n",
       "\n",
       "    .dataframe thead th {\n",
       "        text-align: right;\n",
       "    }\n",
       "</style>\n",
       "<table border=\"1\" class=\"dataframe\">\n",
       "  <thead>\n",
       "    <tr style=\"text-align: right;\">\n",
       "      <th></th>\n",
       "      <th>DATA</th>\n",
       "      <th>JPCAEU3M</th>\n",
       "      <th>LG13TREH</th>\n",
       "      <th>LBEATREU</th>\n",
       "      <th>LEGATREH</th>\n",
       "      <th>NDDUWI</th>\n",
       "      <th>MXWOHEUR</th>\n",
       "      <th>NDUEEGF</th>\n",
       "      <th>NCUDWI</th>\n",
       "    </tr>\n",
       "  </thead>\n",
       "  <tbody>\n",
       "    <tr>\n",
       "      <th>267</th>\n",
       "      <td>2021-04-30</td>\n",
       "      <td>-0.000959</td>\n",
       "      <td>0.000062</td>\n",
       "      <td>-0.007070</td>\n",
       "      <td>0.001946</td>\n",
       "      <td>0.022437</td>\n",
       "      <td>0.039087</td>\n",
       "      <td>0.001293</td>\n",
       "      <td>0.014886</td>\n",
       "    </tr>\n",
       "    <tr>\n",
       "      <th>268</th>\n",
       "      <td>2021-05-31</td>\n",
       "      <td>-0.000447</td>\n",
       "      <td>0.000185</td>\n",
       "      <td>-0.000782</td>\n",
       "      <td>0.001607</td>\n",
       "      <td>-0.002269</td>\n",
       "      <td>0.009862</td>\n",
       "      <td>0.006371</td>\n",
       "      <td>-0.008122</td>\n",
       "    </tr>\n",
       "    <tr>\n",
       "      <th>269</th>\n",
       "      <td>2021-06-30</td>\n",
       "      <td>-0.000419</td>\n",
       "      <td>-0.000984</td>\n",
       "      <td>0.003915</td>\n",
       "      <td>0.004428</td>\n",
       "      <td>0.047367</td>\n",
       "      <td>0.023412</td>\n",
       "      <td>0.033765</td>\n",
       "      <td>0.034136</td>\n",
       "    </tr>\n",
       "    <tr>\n",
       "      <th>270</th>\n",
       "      <td>2021-07-31</td>\n",
       "      <td>-0.000442</td>\n",
       "      <td>0.001109</td>\n",
       "      <td>0.015628</td>\n",
       "      <td>0.011809</td>\n",
       "      <td>0.017055</td>\n",
       "      <td>0.016629</td>\n",
       "      <td>-0.068086</td>\n",
       "      <td>-0.007632</td>\n",
       "    </tr>\n",
       "    <tr>\n",
       "      <th>271</th>\n",
       "      <td>2021-08-31</td>\n",
       "      <td>-0.000486</td>\n",
       "      <td>-0.000492</td>\n",
       "      <td>-0.004707</td>\n",
       "      <td>-0.002604</td>\n",
       "      <td>0.029402</td>\n",
       "      <td>0.026263</td>\n",
       "      <td>0.030696</td>\n",
       "      <td>0.028818</td>\n",
       "    </tr>\n",
       "  </tbody>\n",
       "</table>\n",
       "</div>"
      ],
      "text/plain": [
       "          DATA  JPCAEU3M  LG13TREH  LBEATREU  LEGATREH    NDDUWI  MXWOHEUR  \\\n",
       "267 2021-04-30 -0.000959  0.000062 -0.007070  0.001946  0.022437  0.039087   \n",
       "268 2021-05-31 -0.000447  0.000185 -0.000782  0.001607 -0.002269  0.009862   \n",
       "269 2021-06-30 -0.000419 -0.000984  0.003915  0.004428  0.047367  0.023412   \n",
       "270 2021-07-31 -0.000442  0.001109  0.015628  0.011809  0.017055  0.016629   \n",
       "271 2021-08-31 -0.000486 -0.000492 -0.004707 -0.002604  0.029402  0.026263   \n",
       "\n",
       "      NDUEEGF    NCUDWI  \n",
       "267  0.001293  0.014886  \n",
       "268  0.006371 -0.008122  \n",
       "269  0.033765  0.034136  \n",
       "270 -0.068086 -0.007632  \n",
       "271  0.030696  0.028818  "
      ]
     },
     "execution_count": 7,
     "metadata": {},
     "output_type": "execute_result"
    }
   ],
   "source": [
    "df2.tail()"
   ]
  },
  {
   "cell_type": "markdown",
   "id": "b140ee9a",
   "metadata": {},
   "source": [
    "2 - Verificare le caratteristiche del DF e un po' di statistiche"
   ]
  },
  {
   "cell_type": "code",
   "execution_count": 8,
   "id": "f12587d6",
   "metadata": {},
   "outputs": [
    {
     "name": "stdout",
     "output_type": "stream",
     "text": [
      "<class 'pandas.core.frame.DataFrame'>\n",
      "RangeIndex: 272 entries, 0 to 271\n",
      "Data columns (total 9 columns):\n",
      " #   Column    Non-Null Count  Dtype         \n",
      "---  ------    --------------  -----         \n",
      " 0   DATA      272 non-null    datetime64[ns]\n",
      " 1   JPCAEU3M  272 non-null    float64       \n",
      " 2   LG13TREH  272 non-null    float64       \n",
      " 3   LBEATREU  272 non-null    float64       \n",
      " 4   LEGATREH  272 non-null    float64       \n",
      " 5   NDDUWI    272 non-null    float64       \n",
      " 6   MXWOHEUR  272 non-null    float64       \n",
      " 7   NDUEEGF   272 non-null    float64       \n",
      " 8   NCUDWI    272 non-null    float64       \n",
      "dtypes: datetime64[ns](1), float64(8)\n",
      "memory usage: 19.2 KB\n"
     ]
    }
   ],
   "source": [
    "df2.info()"
   ]
  },
  {
   "cell_type": "code",
   "execution_count": 129,
   "id": "5019da40",
   "metadata": {},
   "outputs": [
    {
     "data": {
      "text/html": [
       "<div>\n",
       "<style scoped>\n",
       "    .dataframe tbody tr th:only-of-type {\n",
       "        vertical-align: middle;\n",
       "    }\n",
       "\n",
       "    .dataframe tbody tr th {\n",
       "        vertical-align: top;\n",
       "    }\n",
       "\n",
       "    .dataframe thead th {\n",
       "        text-align: right;\n",
       "    }\n",
       "</style>\n",
       "<table border=\"1\" class=\"dataframe\">\n",
       "  <thead>\n",
       "    <tr style=\"text-align: right;\">\n",
       "      <th></th>\n",
       "      <th>JPCAEU3M</th>\n",
       "      <th>LG13TREH</th>\n",
       "      <th>LBEATREU</th>\n",
       "      <th>LEGATREH</th>\n",
       "      <th>NDDUWI</th>\n",
       "      <th>MXWOHEUR</th>\n",
       "      <th>NDUEEGF</th>\n",
       "      <th>NCUDWI</th>\n",
       "    </tr>\n",
       "  </thead>\n",
       "  <tbody>\n",
       "    <tr>\n",
       "      <th>count</th>\n",
       "      <td>272.000000</td>\n",
       "      <td>272.000000</td>\n",
       "      <td>272.000000</td>\n",
       "      <td>272.000000</td>\n",
       "      <td>272.000000</td>\n",
       "      <td>272.000000</td>\n",
       "      <td>272.000000</td>\n",
       "      <td>272.000000</td>\n",
       "    </tr>\n",
       "    <tr>\n",
       "      <th>mean</th>\n",
       "      <td>0.001483</td>\n",
       "      <td>0.001929</td>\n",
       "      <td>0.003458</td>\n",
       "      <td>0.003189</td>\n",
       "      <td>0.006093</td>\n",
       "      <td>0.005320</td>\n",
       "      <td>0.009026</td>\n",
       "      <td>0.009215</td>\n",
       "    </tr>\n",
       "    <tr>\n",
       "      <th>std</th>\n",
       "      <td>0.001596</td>\n",
       "      <td>0.002853</td>\n",
       "      <td>0.009625</td>\n",
       "      <td>0.008036</td>\n",
       "      <td>0.041800</td>\n",
       "      <td>0.040989</td>\n",
       "      <td>0.056998</td>\n",
       "      <td>0.049086</td>\n",
       "    </tr>\n",
       "    <tr>\n",
       "      <th>min</th>\n",
       "      <td>-0.000959</td>\n",
       "      <td>-0.004003</td>\n",
       "      <td>-0.033915</td>\n",
       "      <td>-0.020175</td>\n",
       "      <td>-0.129970</td>\n",
       "      <td>-0.178195</td>\n",
       "      <td>-0.197135</td>\n",
       "      <td>-0.205623</td>\n",
       "    </tr>\n",
       "    <tr>\n",
       "      <th>25%</th>\n",
       "      <td>0.000023</td>\n",
       "      <td>-0.000015</td>\n",
       "      <td>-0.003863</td>\n",
       "      <td>-0.001976</td>\n",
       "      <td>-0.014628</td>\n",
       "      <td>-0.015516</td>\n",
       "      <td>-0.022476</td>\n",
       "      <td>-0.015728</td>\n",
       "    </tr>\n",
       "    <tr>\n",
       "      <th>50%</th>\n",
       "      <td>0.001464</td>\n",
       "      <td>0.001216</td>\n",
       "      <td>0.004586</td>\n",
       "      <td>0.003574</td>\n",
       "      <td>0.010481</td>\n",
       "      <td>0.011628</td>\n",
       "      <td>0.012272</td>\n",
       "      <td>0.010595</td>\n",
       "    </tr>\n",
       "    <tr>\n",
       "      <th>75%</th>\n",
       "      <td>0.002692</td>\n",
       "      <td>0.003656</td>\n",
       "      <td>0.009845</td>\n",
       "      <td>0.008900</td>\n",
       "      <td>0.030576</td>\n",
       "      <td>0.030093</td>\n",
       "      <td>0.040949</td>\n",
       "      <td>0.040814</td>\n",
       "    </tr>\n",
       "    <tr>\n",
       "      <th>max</th>\n",
       "      <td>0.006043</td>\n",
       "      <td>0.012231</td>\n",
       "      <td>0.031557</td>\n",
       "      <td>0.028448</td>\n",
       "      <td>0.113863</td>\n",
       "      <td>0.117260</td>\n",
       "      <td>0.168173</td>\n",
       "      <td>0.167071</td>\n",
       "    </tr>\n",
       "  </tbody>\n",
       "</table>\n",
       "</div>"
      ],
      "text/plain": [
       "         JPCAEU3M    LG13TREH    LBEATREU    LEGATREH      NDDUWI    MXWOHEUR  \\\n",
       "count  272.000000  272.000000  272.000000  272.000000  272.000000  272.000000   \n",
       "mean     0.001483    0.001929    0.003458    0.003189    0.006093    0.005320   \n",
       "std      0.001596    0.002853    0.009625    0.008036    0.041800    0.040989   \n",
       "min     -0.000959   -0.004003   -0.033915   -0.020175   -0.129970   -0.178195   \n",
       "25%      0.000023   -0.000015   -0.003863   -0.001976   -0.014628   -0.015516   \n",
       "50%      0.001464    0.001216    0.004586    0.003574    0.010481    0.011628   \n",
       "75%      0.002692    0.003656    0.009845    0.008900    0.030576    0.030093   \n",
       "max      0.006043    0.012231    0.031557    0.028448    0.113863    0.117260   \n",
       "\n",
       "          NDUEEGF      NCUDWI  \n",
       "count  272.000000  272.000000  \n",
       "mean     0.009026    0.009215  \n",
       "std      0.056998    0.049086  \n",
       "min     -0.197135   -0.205623  \n",
       "25%     -0.022476   -0.015728  \n",
       "50%      0.012272    0.010595  \n",
       "75%      0.040949    0.040814  \n",
       "max      0.168173    0.167071  "
      ]
     },
     "execution_count": 129,
     "metadata": {},
     "output_type": "execute_result"
    }
   ],
   "source": [
    "df2.describe()"
   ]
  },
  {
   "cell_type": "markdown",
   "id": "d177d321",
   "metadata": {},
   "source": [
    "3 - Verificare le dimensioni di df2 e i nomi delle colonne"
   ]
  },
  {
   "cell_type": "code",
   "execution_count": 9,
   "id": "6e3be595",
   "metadata": {},
   "outputs": [
    {
     "data": {
      "text/plain": [
       "(272, 9)"
      ]
     },
     "execution_count": 9,
     "metadata": {},
     "output_type": "execute_result"
    }
   ],
   "source": [
    "df2.shape"
   ]
  },
  {
   "cell_type": "code",
   "execution_count": 10,
   "id": "1d5ad0ac",
   "metadata": {},
   "outputs": [
    {
     "data": {
      "text/plain": [
       "Index(['DATA', 'JPCAEU3M', 'LG13TREH', 'LBEATREU', 'LEGATREH', 'NDDUWI',\n",
       "       'MXWOHEUR', 'NDUEEGF', 'NCUDWI'],\n",
       "      dtype='object')"
      ]
     },
     "execution_count": 10,
     "metadata": {},
     "output_type": "execute_result"
    }
   ],
   "source": [
    "df2.columns"
   ]
  },
  {
   "cell_type": "markdown",
   "id": "655c28bb",
   "metadata": {},
   "source": [
    "4 - Verificare se ci sono dati mancanti"
   ]
  },
  {
   "cell_type": "code",
   "execution_count": 11,
   "id": "5cebfebe",
   "metadata": {},
   "outputs": [
    {
     "data": {
      "text/plain": [
       "DATA        0\n",
       "JPCAEU3M    0\n",
       "LG13TREH    0\n",
       "LBEATREU    0\n",
       "LEGATREH    0\n",
       "NDDUWI      0\n",
       "MXWOHEUR    0\n",
       "NDUEEGF     0\n",
       "NCUDWI      0\n",
       "dtype: int64"
      ]
     },
     "execution_count": 11,
     "metadata": {},
     "output_type": "execute_result"
    }
   ],
   "source": [
    "df2.isnull().sum()"
   ]
  },
  {
   "cell_type": "markdown",
   "id": "9cb0c7fa",
   "metadata": {},
   "source": [
    "### 9 - Gestire i valori mancanti di un DF"
   ]
  },
  {
   "cell_type": "markdown",
   "id": "67b017a0",
   "metadata": {},
   "source": [
    "Carichiamo lo stesso Df dell'esercizio precedente nel quale abbiamo creato campi vuoti"
   ]
  },
  {
   "cell_type": "code",
   "execution_count": 12,
   "id": "65d1ec00",
   "metadata": {},
   "outputs": [],
   "source": [
    "df3 = pd.read_excel(\"dati_indici_20211103_na.xlsx\")"
   ]
  },
  {
   "cell_type": "code",
   "execution_count": 13,
   "id": "679e374b",
   "metadata": {},
   "outputs": [
    {
     "data": {
      "text/plain": [
       "pandas.core.frame.DataFrame"
      ]
     },
     "execution_count": 13,
     "metadata": {},
     "output_type": "execute_result"
    }
   ],
   "source": [
    "type(df3)"
   ]
  },
  {
   "cell_type": "markdown",
   "id": "46e510c0",
   "metadata": {},
   "source": [
    "verifichiamo se e quanti valori mancanti ci sono in ciascuna colonna di df3"
   ]
  },
  {
   "cell_type": "code",
   "execution_count": 17,
   "id": "fae9fa26",
   "metadata": {},
   "outputs": [
    {
     "data": {
      "text/plain": [
       "DATA        0\n",
       "JPCAEU3M    5\n",
       "LG13TREH    1\n",
       "LBEATREU    4\n",
       "LEGATREH    1\n",
       "NDDUWI      2\n",
       "MXWOHEUR    4\n",
       "NDUEEGF     0\n",
       "NCUDWI      2\n",
       "dtype: int64"
      ]
     },
     "execution_count": 17,
     "metadata": {},
     "output_type": "execute_result"
    }
   ],
   "source": [
    "df3.isnull().sum()"
   ]
  },
  {
   "cell_type": "markdown",
   "id": "535c263a",
   "metadata": {},
   "source": [
    "1 - Sostituire i valori mancanti (NaN) della colonna 1 (JPCAEU3M) con la media dei valori della stessa colonna"
   ]
  },
  {
   "cell_type": "code",
   "execution_count": 136,
   "id": "4d420751",
   "metadata": {},
   "outputs": [
    {
     "data": {
      "text/plain": [
       "267"
      ]
     },
     "execution_count": 136,
     "metadata": {},
     "output_type": "execute_result"
    }
   ],
   "source": [
    "val_not_nan = df3[df3['JPCAEU3M'].notnull()]\n",
    "len(val_not_nan)"
   ]
  },
  {
   "cell_type": "code",
   "execution_count": 137,
   "id": "bf6e6689",
   "metadata": {},
   "outputs": [
    {
     "data": {
      "text/plain": [
       "0.001471427194232164"
      ]
     },
     "execution_count": 137,
     "metadata": {},
     "output_type": "execute_result"
    }
   ],
   "source": [
    "a = np.average(val_not_nan['JPCAEU3M'])\n",
    "a"
   ]
  },
  {
   "cell_type": "code",
   "execution_count": 138,
   "id": "19a73b3f",
   "metadata": {},
   "outputs": [
    {
     "data": {
      "text/plain": [
       "0      0.002894\n",
       "1      0.002295\n",
       "2      0.003112\n",
       "3      0.003203\n",
       "4      0.002236\n",
       "         ...   \n",
       "267   -0.000959\n",
       "268   -0.000447\n",
       "269   -0.000419\n",
       "270   -0.000442\n",
       "271   -0.000486\n",
       "Name: JPCAEU3M, Length: 272, dtype: float64"
      ]
     },
     "execution_count": 138,
     "metadata": {},
     "output_type": "execute_result"
    }
   ],
   "source": [
    "df3['JPCAEU3M'] = df3['JPCAEU3M'].fillna(np.average(val_not_nan['JPCAEU3M']))\n",
    "df3['JPCAEU3M']"
   ]
  },
  {
   "cell_type": "code",
   "execution_count": 18,
   "id": "f7b59366",
   "metadata": {},
   "outputs": [
    {
     "data": {
      "text/plain": [
       "DATA        0\n",
       "JPCAEU3M    5\n",
       "LG13TREH    1\n",
       "LBEATREU    4\n",
       "LEGATREH    1\n",
       "NDDUWI      2\n",
       "MXWOHEUR    4\n",
       "NDUEEGF     0\n",
       "NCUDWI      2\n",
       "dtype: int64"
      ]
     },
     "execution_count": 18,
     "metadata": {},
     "output_type": "execute_result"
    }
   ],
   "source": [
    "df3.isnull().sum()"
   ]
  },
  {
   "cell_type": "code",
   "execution_count": 19,
   "id": "61f6c5a4",
   "metadata": {},
   "outputs": [
    {
     "data": {
      "text/plain": [
       "pandas.core.frame.DataFrame"
      ]
     },
     "execution_count": 19,
     "metadata": {},
     "output_type": "execute_result"
    }
   ],
   "source": [
    "type(df3)"
   ]
  },
  {
   "cell_type": "code",
   "execution_count": 20,
   "id": "dccea800",
   "metadata": {},
   "outputs": [
    {
     "data": {
      "text/html": [
       "<div>\n",
       "<style scoped>\n",
       "    .dataframe tbody tr th:only-of-type {\n",
       "        vertical-align: middle;\n",
       "    }\n",
       "\n",
       "    .dataframe tbody tr th {\n",
       "        vertical-align: top;\n",
       "    }\n",
       "\n",
       "    .dataframe thead th {\n",
       "        text-align: right;\n",
       "    }\n",
       "</style>\n",
       "<table border=\"1\" class=\"dataframe\">\n",
       "  <thead>\n",
       "    <tr style=\"text-align: right;\">\n",
       "      <th></th>\n",
       "      <th>DATA</th>\n",
       "      <th>JPCAEU3M</th>\n",
       "      <th>LG13TREH</th>\n",
       "      <th>LBEATREU</th>\n",
       "      <th>LEGATREH</th>\n",
       "      <th>NDDUWI</th>\n",
       "      <th>MXWOHEUR</th>\n",
       "      <th>NDUEEGF</th>\n",
       "      <th>NCUDWI</th>\n",
       "    </tr>\n",
       "  </thead>\n",
       "  <tbody>\n",
       "    <tr>\n",
       "      <th>0</th>\n",
       "      <td>1999-01-31</td>\n",
       "      <td>0.002894</td>\n",
       "      <td>0.000000</td>\n",
       "      <td>0.013556</td>\n",
       "      <td>0.014568</td>\n",
       "      <td>0.060804</td>\n",
       "      <td>0.033060</td>\n",
       "      <td>0.027897</td>\n",
       "      <td>0.039463</td>\n",
       "    </tr>\n",
       "    <tr>\n",
       "      <th>1</th>\n",
       "      <td>1999-02-28</td>\n",
       "      <td>0.002295</td>\n",
       "      <td>0.005009</td>\n",
       "      <td>-0.011451</td>\n",
       "      <td>-0.014557</td>\n",
       "      <td>0.003298</td>\n",
       "      <td>-0.014425</td>\n",
       "      <td>0.040799</td>\n",
       "      <td>-0.014921</td>\n",
       "    </tr>\n",
       "    <tr>\n",
       "      <th>2</th>\n",
       "      <td>1999-03-31</td>\n",
       "      <td>0.003112</td>\n",
       "      <td>-0.001575</td>\n",
       "      <td>0.006580</td>\n",
       "      <td>0.006532</td>\n",
       "      <td>0.061535</td>\n",
       "      <td>0.044016</td>\n",
       "      <td>0.153928</td>\n",
       "      <td>0.058550</td>\n",
       "    </tr>\n",
       "    <tr>\n",
       "      <th>3</th>\n",
       "      <td>1999-04-30</td>\n",
       "      <td>0.003203</td>\n",
       "      <td>0.005897</td>\n",
       "      <td>0.010771</td>\n",
       "      <td>0.006090</td>\n",
       "      <td>0.061479</td>\n",
       "      <td>0.043849</td>\n",
       "      <td>0.147651</td>\n",
       "      <td>0.100637</td>\n",
       "    </tr>\n",
       "    <tr>\n",
       "      <th>4</th>\n",
       "      <td>1999-05-31</td>\n",
       "      <td>0.002236</td>\n",
       "      <td>0.004197</td>\n",
       "      <td>-0.005647</td>\n",
       "      <td>-0.007740</td>\n",
       "      <td>-0.024039</td>\n",
       "      <td>-0.030806</td>\n",
       "      <td>0.007252</td>\n",
       "      <td>0.001808</td>\n",
       "    </tr>\n",
       "    <tr>\n",
       "      <th>...</th>\n",
       "      <td>...</td>\n",
       "      <td>...</td>\n",
       "      <td>...</td>\n",
       "      <td>...</td>\n",
       "      <td>...</td>\n",
       "      <td>...</td>\n",
       "      <td>...</td>\n",
       "      <td>...</td>\n",
       "      <td>...</td>\n",
       "    </tr>\n",
       "    <tr>\n",
       "      <th>267</th>\n",
       "      <td>2021-04-30</td>\n",
       "      <td>-0.000959</td>\n",
       "      <td>0.000062</td>\n",
       "      <td>-0.007070</td>\n",
       "      <td>0.001946</td>\n",
       "      <td>0.022437</td>\n",
       "      <td>0.039087</td>\n",
       "      <td>0.001293</td>\n",
       "      <td>0.014886</td>\n",
       "    </tr>\n",
       "    <tr>\n",
       "      <th>268</th>\n",
       "      <td>2021-05-31</td>\n",
       "      <td>-0.000447</td>\n",
       "      <td>0.000185</td>\n",
       "      <td>-0.000782</td>\n",
       "      <td>0.001607</td>\n",
       "      <td>-0.002269</td>\n",
       "      <td>0.009862</td>\n",
       "      <td>0.006371</td>\n",
       "      <td>-0.008122</td>\n",
       "    </tr>\n",
       "    <tr>\n",
       "      <th>269</th>\n",
       "      <td>2021-06-30</td>\n",
       "      <td>-0.000419</td>\n",
       "      <td>-0.000984</td>\n",
       "      <td>0.003915</td>\n",
       "      <td>0.004428</td>\n",
       "      <td>0.047367</td>\n",
       "      <td>0.023412</td>\n",
       "      <td>0.033765</td>\n",
       "      <td>0.034136</td>\n",
       "    </tr>\n",
       "    <tr>\n",
       "      <th>270</th>\n",
       "      <td>2021-07-31</td>\n",
       "      <td>-0.000442</td>\n",
       "      <td>0.001109</td>\n",
       "      <td>0.015628</td>\n",
       "      <td>0.011809</td>\n",
       "      <td>0.017055</td>\n",
       "      <td>NaN</td>\n",
       "      <td>-0.068086</td>\n",
       "      <td>-0.007632</td>\n",
       "    </tr>\n",
       "    <tr>\n",
       "      <th>271</th>\n",
       "      <td>2021-08-31</td>\n",
       "      <td>-0.000486</td>\n",
       "      <td>-0.000492</td>\n",
       "      <td>-0.004707</td>\n",
       "      <td>-0.002604</td>\n",
       "      <td>0.029402</td>\n",
       "      <td>0.026263</td>\n",
       "      <td>0.030696</td>\n",
       "      <td>0.028818</td>\n",
       "    </tr>\n",
       "  </tbody>\n",
       "</table>\n",
       "<p>272 rows × 9 columns</p>\n",
       "</div>"
      ],
      "text/plain": [
       "          DATA  JPCAEU3M  LG13TREH  LBEATREU  LEGATREH    NDDUWI  MXWOHEUR  \\\n",
       "0   1999-01-31  0.002894  0.000000  0.013556  0.014568  0.060804  0.033060   \n",
       "1   1999-02-28  0.002295  0.005009 -0.011451 -0.014557  0.003298 -0.014425   \n",
       "2   1999-03-31  0.003112 -0.001575  0.006580  0.006532  0.061535  0.044016   \n",
       "3   1999-04-30  0.003203  0.005897  0.010771  0.006090  0.061479  0.043849   \n",
       "4   1999-05-31  0.002236  0.004197 -0.005647 -0.007740 -0.024039 -0.030806   \n",
       "..         ...       ...       ...       ...       ...       ...       ...   \n",
       "267 2021-04-30 -0.000959  0.000062 -0.007070  0.001946  0.022437  0.039087   \n",
       "268 2021-05-31 -0.000447  0.000185 -0.000782  0.001607 -0.002269  0.009862   \n",
       "269 2021-06-30 -0.000419 -0.000984  0.003915  0.004428  0.047367  0.023412   \n",
       "270 2021-07-31 -0.000442  0.001109  0.015628  0.011809  0.017055       NaN   \n",
       "271 2021-08-31 -0.000486 -0.000492 -0.004707 -0.002604  0.029402  0.026263   \n",
       "\n",
       "      NDUEEGF    NCUDWI  \n",
       "0    0.027897  0.039463  \n",
       "1    0.040799 -0.014921  \n",
       "2    0.153928  0.058550  \n",
       "3    0.147651  0.100637  \n",
       "4    0.007252  0.001808  \n",
       "..        ...       ...  \n",
       "267  0.001293  0.014886  \n",
       "268  0.006371 -0.008122  \n",
       "269  0.033765  0.034136  \n",
       "270 -0.068086 -0.007632  \n",
       "271  0.030696  0.028818  \n",
       "\n",
       "[272 rows x 9 columns]"
      ]
     },
     "execution_count": 20,
     "metadata": {},
     "output_type": "execute_result"
    }
   ],
   "source": [
    "df3"
   ]
  },
  {
   "cell_type": "markdown",
   "id": "0576acfa",
   "metadata": {},
   "source": [
    "2 - Eliminare tutte le righe dove ci sono valori mancanti"
   ]
  },
  {
   "cell_type": "code",
   "execution_count": 142,
   "id": "c0db8067",
   "metadata": {},
   "outputs": [],
   "source": [
    "df3.dropna(inplace=True)"
   ]
  },
  {
   "cell_type": "markdown",
   "id": "cf4ef2a2",
   "metadata": {},
   "source": [
    "3 - Verificare quanti sono i valori mancanti in  ciascuna colonna"
   ]
  },
  {
   "cell_type": "code",
   "execution_count": 143,
   "id": "a3824fec",
   "metadata": {},
   "outputs": [
    {
     "data": {
      "text/plain": [
       "DATA        0\n",
       "JPCAEU3M    0\n",
       "LG13TREH    0\n",
       "LBEATREU    0\n",
       "LEGATREH    0\n",
       "NDDUWI      0\n",
       "MXWOHEUR    0\n",
       "NDUEEGF     0\n",
       "NCUDWI      0\n",
       "dtype: int64"
      ]
     },
     "execution_count": 143,
     "metadata": {},
     "output_type": "execute_result"
    }
   ],
   "source": [
    "df3.isnull().sum()"
   ]
  },
  {
   "cell_type": "markdown",
   "id": "83eb0c5b",
   "metadata": {},
   "source": [
    "4 - Verificare quanti valori mancanti ci sono in df3"
   ]
  },
  {
   "cell_type": "code",
   "execution_count": 144,
   "id": "344fdfc6",
   "metadata": {},
   "outputs": [
    {
     "data": {
      "text/plain": [
       "0"
      ]
     },
     "execution_count": 144,
     "metadata": {},
     "output_type": "execute_result"
    }
   ],
   "source": [
    "df3.isnull().sum().sum()"
   ]
  },
  {
   "cell_type": "code",
   "execution_count": null,
   "id": "1158a9ca",
   "metadata": {},
   "outputs": [],
   "source": []
  }
 ],
 "metadata": {
  "kernelspec": {
   "display_name": "Python 3",
   "language": "python",
   "name": "python3"
  },
  "language_info": {
   "codemirror_mode": {
    "name": "ipython",
    "version": 3
   },
   "file_extension": ".py",
   "mimetype": "text/x-python",
   "name": "python",
   "nbconvert_exporter": "python",
   "pygments_lexer": "ipython3",
   "version": "3.8.8"
  }
 },
 "nbformat": 4,
 "nbformat_minor": 5
}
