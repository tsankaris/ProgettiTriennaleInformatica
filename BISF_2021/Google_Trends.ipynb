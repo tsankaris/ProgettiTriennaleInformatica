{
 "cells": [
  {
   "cell_type": "markdown",
   "id": "4a2cc1c7",
   "metadata": {},
   "source": [
    "#### Automate Google trends analysis with Python\n",
    "https://www.youtube.com/watch?v=cuTUbPQk2R4&t=55s\n"
   ]
  },
  {
   "cell_type": "code",
   "execution_count": 2,
   "id": "1dc95bcf",
   "metadata": {},
   "outputs": [
    {
     "name": "stdout",
     "output_type": "stream",
     "text": [
      "Collecting pytrends\n",
      "  Downloading pytrends-4.7.3-py3-none-any.whl (14 kB)\n",
      "Requirement already satisfied: pandas>=0.25 in c:\\users\\s.bencini\\anaconda3\\lib\\site-packages (from pytrends) (1.2.4)\n",
      "Requirement already satisfied: requests in c:\\users\\s.bencini\\anaconda3\\lib\\site-packages (from pytrends) (2.25.1)\n",
      "Requirement already satisfied: lxml in c:\\users\\s.bencini\\anaconda3\\lib\\site-packages (from pytrends) (4.6.3)\n",
      "Requirement already satisfied: numpy>=1.16.5 in c:\\users\\s.bencini\\anaconda3\\lib\\site-packages (from pandas>=0.25->pytrends) (1.20.1)\n",
      "Requirement already satisfied: python-dateutil>=2.7.3 in c:\\users\\s.bencini\\anaconda3\\lib\\site-packages (from pandas>=0.25->pytrends) (2.8.1)\n",
      "Requirement already satisfied: pytz>=2017.3 in c:\\users\\s.bencini\\anaconda3\\lib\\site-packages (from pandas>=0.25->pytrends) (2021.1)\n",
      "Requirement already satisfied: six>=1.5 in c:\\users\\s.bencini\\anaconda3\\lib\\site-packages (from python-dateutil>=2.7.3->pandas>=0.25->pytrends) (1.15.0)\n",
      "Requirement already satisfied: chardet<5,>=3.0.2 in c:\\users\\s.bencini\\anaconda3\\lib\\site-packages (from requests->pytrends) (4.0.0)\n",
      "Requirement already satisfied: idna<3,>=2.5 in c:\\users\\s.bencini\\anaconda3\\lib\\site-packages (from requests->pytrends) (2.10)\n",
      "Requirement already satisfied: urllib3<1.27,>=1.21.1 in c:\\users\\s.bencini\\anaconda3\\lib\\site-packages (from requests->pytrends) (1.26.4)\n",
      "Requirement already satisfied: certifi>=2017.4.17 in c:\\users\\s.bencini\\anaconda3\\lib\\site-packages (from requests->pytrends) (2020.12.5)\n",
      "Installing collected packages: pytrends\n",
      "Successfully installed pytrends-4.7.3\n",
      "Note: you may need to restart the kernel to use updated packages.\n"
     ]
    }
   ],
   "source": [
    "pip install pytrends"
   ]
  },
  {
   "cell_type": "code",
   "execution_count": 1,
   "id": "c1c1b03b",
   "metadata": {},
   "outputs": [],
   "source": [
    "from pytrends.request import TrendReq"
   ]
  },
  {
   "cell_type": "code",
   "execution_count": 6,
   "id": "d057fbcd",
   "metadata": {},
   "outputs": [],
   "source": [
    "pytrends = TrendReq(hl='en-US')"
   ]
  },
  {
   "cell_type": "code",
   "execution_count": 56,
   "id": "3d05ea64",
   "metadata": {},
   "outputs": [
    {
     "name": "stdout",
     "output_type": "stream",
     "text": [
      "L'interesse medio negli ultimi cinque anni per Amazon è stato 67.08\n",
      "L'interesse medio nell'ultimo anno per Amazon a confronto con gli ultimi 5 anni è cambiato del 6.68%.\n",
      "L'interesse per Amazon è relativamente stabile negli ultimi 5 anni.\n",
      "L'interesse nell'ultimo anno è stato molto più alto rispetto a 5 anni fa.E' aumentato del 21.89%.\n",
      "\n",
      "L'interesse medio negli ultimi cinque anni per General Electric è stato 62.3\n",
      "L'interesse medio nell'ultimo anno per General Electric a confronto con gli ultimi 5 anni è cambiato del -12.49%.\n",
      "L'interesse per General Electric è relativamente stabile negli ultimi 5 anni.\n",
      "L'interesse nell'ultimo anno è stato molto più basso rispetto a 5 anni fa.E' diminuito del -14.79%.\n",
      "\n",
      "L'interesse medio negli ultimi cinque anni per Google è stato 60.03\n",
      "L'interesse medio nell'ultimo anno per Google a confronto con gli ultimi 5 anni è cambiato del -16.51%.\n",
      "L'interesse per Google è relativamente stabile e decrescente negli ultimi 5 anni\n",
      "L'interesse nell'ultimo anno è stato molto più basso rispetto a 5 anni fa.E' diminuito del -25.62%.\n",
      "\n",
      "L'interesse medio negli ultimi cinque anni per Pfizer è stato 14.42\n",
      "L'interesse medio nell'ultimo anno per Pfizer a confronto con gli ultimi 5 anni è cambiato del 311.03%.\n",
      "L'interesse per Pfizer è nuovo e con trend positivo.\n",
      "L'interesse nell'ultimo anno è stato molto più alto rispetto a 5 anni fa.E' aumentato del 3103.78%.\n",
      "\n",
      "L'interesse medio negli ultimi cinque anni per US Steel è stato 21.87\n",
      "L'interesse medio nell'ultimo anno per US Steel a confronto con gli ultimi 5 anni è cambiato del -9.69%.\n",
      "L'interesse per US Steel è stagionale.\n",
      "L'interesse nell'ultimo anno è stato molto più basso rispetto a 5 anni fa.E' diminuito del -11.63%.\n",
      "\n",
      "L'interesse medio negli ultimi cinque anni per Tesla è stato 41.58\n",
      "L'interesse medio nell'ultimo anno per Tesla a confronto con gli ultimi 5 anni è cambiato del 40.79%.\n",
      "L'interesse per Tesla è nuovo e con trend positivo.\n",
      "L'interesse nell'ultimo anno è stato molto più alto rispetto a 5 anni fa.E' aumentato del 114.98%.\n",
      "\n",
      "L'interesse medio negli ultimi cinque anni per Hertz è stato 37.06\n",
      "L'interesse medio nell'ultimo anno per Hertz a confronto con gli ultimi 5 anni è cambiato del -20.08%.\n",
      "L'interesse per Hertz è con trend positivo.\n",
      "L'interesse nell'ultimo anno è stato molto più basso rispetto a 5 anni fa.E' diminuito del -23.93%.\n",
      "\n"
     ]
    }
   ],
   "source": [
    "\n",
    "all_keywords = ['Amazon',\n",
    "                'General Electric', 'Google',\n",
    "               'Pfizer', 'US Steel',\n",
    "               'Tesla', 'Hertz']\n",
    "keywords = []\n",
    "timeframes = ['today 5-y', 'today 12-m',\n",
    "              'today 3m', 'today 1-m']\n",
    "kw_list = ['Blockchain']\n",
    "cat='0'\n",
    "geo = ''\n",
    "gprop = ''\n",
    "\n",
    "def check_trends():\n",
    "    pytrends.build_payload(keywords,\n",
    "                       cat,\n",
    "                       timeframes[0],\n",
    "                       geo,\n",
    "                       gprop)\n",
    "\n",
    "    data = pytrends.interest_over_time()\n",
    "    mean = round(data.mean(),2)\n",
    "    avg = round(data[kw][-52:].mean(),2) #Media dell'ultimo anno\n",
    "    avg2 = round(data[kw][:52].mean(),2) #Media annuale di cinque anni fa\n",
    "    trend = round(((avg/mean[kw])-1)*100, 2)\n",
    "    trend2 = round(((avg/avg2)-1)*100,2) \n",
    "    print(\"L'interesse medio negli ultimi cinque anni per \" + kw  + ' è stato ' + str(mean[kw]))\n",
    "    print(\"L'interesse medio nell'ultimo anno per \" + kw  +\n",
    "          ' a confronto con gli ultimi 5 anni è cambiato del ' + \n",
    "          str(trend) + '%.')\n",
    "    #Trend stabile\n",
    "    if mean[kw] > 75 and abs(trend) <= 5:\n",
    "        print(\"L'interesse per \" +  kw + ' è stabile negli ultimi 5 anni.')\n",
    "    elif mean[kw] > 75 and trend > 5:\n",
    "        print(\"L'interesse per \" +  kw + ' è stabile e crescente negli ultimi 5 anni.')\n",
    "    elif mean[kw] > 75 and trend < -5:\n",
    "        print(\"L'interesse per \" +  kw +  'è stabile e decrescente negli ultimi 5 anni.')\n",
    "     #Trend relativamente stabile\n",
    "    elif mean[kw] > 60 and abs(trend) <= 15:\n",
    "        print(\"L'interesse per \" +  kw + ' è relativamente stabile negli ultimi 5 anni.')\n",
    "    elif mean[kw] > 60 and trend > 15:\n",
    "        print(\"L'interesse per \" +  kw + ' è relativamente stabile e crescente negli ultimi 5 anni.')   \n",
    "    elif mean[kw] > 60 and trend < -15:\n",
    "        print(\"L'interesse per \" +  kw + ' è relativamente stabile e decrescente negli ultimi 5 anni')   \n",
    "\n",
    "     #Cicli stagionali\n",
    "    elif mean[kw] > 20 and abs(trend) <= 15:\n",
    "        print(\"L'interesse per \" +  kw + ' è stagionale.')\n",
    "    \n",
    "    #Nuovo termine/prodotto\n",
    "    elif mean[kw] > 20 and trend < 15:\n",
    "        print(\"L'interesse per \" +  kw + ' è con trend positivo.')\n",
    "    \n",
    "    #Prodotto o termine in declino\n",
    "    elif mean[kw] > 20 and trend < -15:\n",
    "        print(\"L'interesse per \" +  kw + ' ha un trend negativo.')\n",
    "    \n",
    "    #Prodotto o termine ciclico\n",
    "    elif mean[kw] > 5 and abs(trend) <= 15:\n",
    "        print(\"L'interesse per \" +  kw + ' è ciclico.')\n",
    "    \n",
    "    #Prodotto nuovo\n",
    "    elif mean[kw] > 0 and trend > 15:\n",
    "        print(\"L'interesse per \" +  kw + ' è nuovo e con trend positivo.')\n",
    "    \n",
    "    #Prodotto in declino\n",
    "    elif mean[kw] > 0 and trend < -15:\n",
    "        print(\"L'interesse per \" +  kw + ' è in declino.')\n",
    "    \n",
    "    #Other\n",
    "    else:\n",
    "        print('Occorre fare altre verifiche')\n",
    "        \n",
    "    # Confronto con 5 anni fa\n",
    "    if avg2 == 0:\n",
    "        print(\"Il prodotto/termine non esisteva 5 anni fa\")\n",
    "    elif trend2 >15:\n",
    "        print(\"L'interesse nell'ultimo anno è stato molto più alto rispetto a 5 anni fa.\" + \n",
    "             \"E' aumentato del \" + str(trend2) + '%.')\n",
    "    elif trend2 <15:\n",
    "        print(\"L'interesse nell'ultimo anno è stato molto più basso rispetto a 5 anni fa.\" + \n",
    "             \"E' diminuito del \" + str(trend2) + '%.')\n",
    "    else:\n",
    "        print(\"l'interesse nell'ultimo anno è paragonabile a quello di 5 anni fa.\" + \n",
    "             \"La variazione è stata del \" + str(trend2) + '%.')\n",
    "        \n",
    "    print('')\n",
    "        \n",
    "        \n",
    "for kw in all_keywords:\n",
    "    keywords.append(kw)\n",
    "    check_trends()\n",
    "    keywords.pop()\n"
   ]
  },
  {
   "cell_type": "code",
   "execution_count": null,
   "id": "6d872376",
   "metadata": {},
   "outputs": [],
   "source": []
  },
  {
   "cell_type": "code",
   "execution_count": null,
   "id": "c8579962",
   "metadata": {},
   "outputs": [],
   "source": []
  }
 ],
 "metadata": {
  "kernelspec": {
   "display_name": "Python 3",
   "language": "python",
   "name": "python3"
  },
  "language_info": {
   "codemirror_mode": {
    "name": "ipython",
    "version": 3
   },
   "file_extension": ".py",
   "mimetype": "text/x-python",
   "name": "python",
   "nbconvert_exporter": "python",
   "pygments_lexer": "ipython3",
   "version": "3.8.8"
  }
 },
 "nbformat": 4,
 "nbformat_minor": 5
}
