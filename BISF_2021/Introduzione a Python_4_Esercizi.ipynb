{
 "cells": [
  {
   "cell_type": "markdown",
   "id": "28344917",
   "metadata": {},
   "source": [
    "### Esercizio 1"
   ]
  },
  {
   "cell_type": "markdown",
   "id": "0a6fb6ca",
   "metadata": {},
   "source": [
    "Scrivere le seguenti formule in Python\n",
    "Per le funzioni sqrt(), log(), exp(), sin() e cos() importare la libreria Numpy"
   ]
  },
  {
   "cell_type": "code",
   "execution_count": 1,
   "id": "c3b8746c",
   "metadata": {},
   "outputs": [],
   "source": [
    "import numpy as np"
   ]
  },
  {
   "cell_type": "markdown",
   "id": "69045720",
   "metadata": {},
   "source": [
    "Formula 1"
   ]
  },
  {
   "cell_type": "markdown",
   "id": "49d09a18",
   "metadata": {},
   "source": [
    "$$\\left[\\frac{7*(2+1) - 2*3}{(1+2)}\\right]-[(3*2+5) - 10]$$"
   ]
  },
  {
   "cell_type": "code",
   "execution_count": 2,
   "id": "e3b501a7",
   "metadata": {},
   "outputs": [
    {
     "data": {
      "text/plain": [
       "4.0"
      ]
     },
     "execution_count": 2,
     "metadata": {},
     "output_type": "execute_result"
    }
   ],
   "source": [
    "((7 * (2 + 1) - 2*3)/(1 + 2)) - ((3 * 2 + 5) - 10)"
   ]
  },
  {
   "cell_type": "markdown",
   "id": "2dce68ae",
   "metadata": {},
   "source": [
    "Formula 2"
   ]
  },
  {
   "cell_type": "markdown",
   "id": "54b5f258",
   "metadata": {},
   "source": [
    "$$\\frac{x}{\\sqrt{ln(|x|)}} $$\n",
    "\n",
    "                                                            dove x = 5"
   ]
  },
  {
   "cell_type": "code",
   "execution_count": 3,
   "id": "f65ae90b",
   "metadata": {},
   "outputs": [
    {
     "data": {
      "text/plain": [
       "3.941240079466144"
      ]
     },
     "execution_count": 3,
     "metadata": {},
     "output_type": "execute_result"
    }
   ],
   "source": [
    "x = 5\n",
    "x / (np.sqrt(np.log(abs(x))))"
   ]
  },
  {
   "cell_type": "markdown",
   "id": "75737fd3",
   "metadata": {},
   "source": [
    "Formula 3"
   ]
  },
  {
   "cell_type": "markdown",
   "id": "fb4b89e3",
   "metadata": {},
   "source": [
    "$$e^{\\sqrt{\\frac{1 - x}{x + 2}}}$$\n",
    "\n",
    "                                                            dove x = 0,5"
   ]
  },
  {
   "cell_type": "code",
   "execution_count": 4,
   "id": "31a62f10",
   "metadata": {},
   "outputs": [
    {
     "data": {
      "text/plain": [
       "1.5639483159353722"
      ]
     },
     "execution_count": 4,
     "metadata": {},
     "output_type": "execute_result"
    }
   ],
   "source": [
    "x = 0.5\n",
    "np.exp(np.sqrt((1-x)/(x+2)))"
   ]
  },
  {
   "cell_type": "markdown",
   "id": "d1d1237f",
   "metadata": {},
   "source": [
    "Formula 4"
   ]
  },
  {
   "cell_type": "markdown",
   "id": "c7dd3c05",
   "metadata": {},
   "source": [
    "$$sin(|x|) + cos(|x|)$$\n",
    "\n",
    "                                                            dove x = 7"
   ]
  },
  {
   "cell_type": "code",
   "execution_count": 5,
   "id": "2aa19aad",
   "metadata": {},
   "outputs": [
    {
     "data": {
      "text/plain": [
       "1.4108888530620938"
      ]
     },
     "execution_count": 5,
     "metadata": {},
     "output_type": "execute_result"
    }
   ],
   "source": [
    "x= 7\n",
    "np.sin(abs(x)) + np.cos(abs(x))"
   ]
  },
  {
   "cell_type": "markdown",
   "id": "6c0c9480",
   "metadata": {},
   "source": [
    "### Esercizio 2 - Variabili"
   ]
  },
  {
   "cell_type": "markdown",
   "id": "4cd6abb2",
   "metadata": {},
   "source": [
    "1 - Creare le variabili A, B, C con valori 3, 2.0, \"7\""
   ]
  },
  {
   "cell_type": "code",
   "execution_count": 19,
   "id": "48bfa681",
   "metadata": {},
   "outputs": [],
   "source": [
    "A = 3\n",
    "B = 2.0\n",
    "C = \"7\""
   ]
  },
  {
   "cell_type": "markdown",
   "id": "1e7fce15",
   "metadata": {},
   "source": [
    "2 - Verificare il tipo di variabili"
   ]
  },
  {
   "cell_type": "code",
   "execution_count": 8,
   "id": "018c758f",
   "metadata": {},
   "outputs": [
    {
     "name": "stdout",
     "output_type": "stream",
     "text": [
      "<class 'int'>\n",
      "<class 'float'>\n",
      "<class 'str'>\n"
     ]
    }
   ],
   "source": [
    "print(type(A))\n",
    "print(type(B))\n",
    "print(type(C))"
   ]
  },
  {
   "cell_type": "code",
   "execution_count": 9,
   "id": "8c1091fd",
   "metadata": {},
   "outputs": [
    {
     "name": "stdout",
     "output_type": "stream",
     "text": [
      "La variabile A è di tipo:  <class 'int'>\n"
     ]
    }
   ],
   "source": [
    "print(\"La variabile A è di tipo: \", type(A))"
   ]
  },
  {
   "cell_type": "markdown",
   "id": "9c31ddbb",
   "metadata": {},
   "source": [
    "3 - Creare la matrice (array) v1 con queste variabili"
   ]
  },
  {
   "cell_type": "code",
   "execution_count": 10,
   "id": "6c26678c",
   "metadata": {},
   "outputs": [
    {
     "name": "stdout",
     "output_type": "stream",
     "text": [
      "['3' '2.0' '7']\n",
      "<class 'numpy.ndarray'>\n"
     ]
    }
   ],
   "source": [
    "v1 = np.array([A, B, C])\n",
    "print(v1)\n",
    "print(type(v1))"
   ]
  },
  {
   "cell_type": "markdown",
   "id": "0ea893b3",
   "metadata": {},
   "source": [
    "ricordare che il tipo di parentesi determina il tipo di oggetto"
   ]
  },
  {
   "cell_type": "code",
   "execution_count": 11,
   "id": "fde5a600",
   "metadata": {},
   "outputs": [
    {
     "name": "stdout",
     "output_type": "stream",
     "text": [
      "[3, 2.0, '7']\n",
      "<class 'list'>\n"
     ]
    }
   ],
   "source": [
    "v2 = [A, B, C]\n",
    "print(v2)\n",
    "print(type(v2))"
   ]
  },
  {
   "cell_type": "code",
   "execution_count": 12,
   "id": "162c6293",
   "metadata": {},
   "outputs": [
    {
     "name": "stdout",
     "output_type": "stream",
     "text": [
      "(3, 2.0, '7')\n",
      "<class 'tuple'>\n"
     ]
    }
   ],
   "source": [
    "v3 = (A, B, C)\n",
    "print(v3)\n",
    "print(type(v3))"
   ]
  },
  {
   "cell_type": "code",
   "execution_count": 13,
   "id": "1281ccce",
   "metadata": {},
   "outputs": [
    {
     "name": "stdout",
     "output_type": "stream",
     "text": [
      "[3, 2.0, '7']\n",
      "<class 'list'>\n"
     ]
    }
   ],
   "source": [
    "v4 = ([A, B, C])\n",
    "print(v4)\n",
    "print(type(v4))"
   ]
  },
  {
   "cell_type": "markdown",
   "id": "ba00472e",
   "metadata": {},
   "source": [
    "4 - Verificare il tipo di v1"
   ]
  },
  {
   "cell_type": "code",
   "execution_count": 14,
   "id": "e8f98685",
   "metadata": {},
   "outputs": [
    {
     "data": {
      "text/plain": [
       "dtype('<U32')"
      ]
     },
     "execution_count": 14,
     "metadata": {},
     "output_type": "execute_result"
    }
   ],
   "source": [
    "v1.dtype"
   ]
  },
  {
   "cell_type": "markdown",
   "id": "46ee1c58",
   "metadata": {},
   "source": [
    "A data type object (an instance of numpy. dtype class) describes how the bytes in the fixed-size block of memory\n",
    "corresponding to an array item should be interpreted.\n",
    "It describes the following aspects of the data: Type of the data (integer, float, Python object, etc.)\n",
    "The course wants you to see that while the input list contains a float, a string and a boolean, the resulting array just has strings. The float and boolean have converted to their string counterparts. – \n",
    "hpaulj\n"
   ]
  },
  {
   "cell_type": "markdown",
   "id": "39f52341",
   "metadata": {},
   "source": [
    "5 - Creare una nuova variabile D come somma di A, B, C"
   ]
  },
  {
   "cell_type": "code",
   "execution_count": 20,
   "id": "3a814230",
   "metadata": {},
   "outputs": [
    {
     "ename": "TypeError",
     "evalue": "unsupported operand type(s) for +: 'float' and 'str'",
     "output_type": "error",
     "traceback": [
      "\u001b[1;31m---------------------------------------------------------------------------\u001b[0m",
      "\u001b[1;31mTypeError\u001b[0m                                 Traceback (most recent call last)",
      "\u001b[1;32m<ipython-input-20-2114be6f5449>\u001b[0m in \u001b[0;36m<module>\u001b[1;34m\u001b[0m\n\u001b[1;32m----> 1\u001b[1;33m \u001b[0mD\u001b[0m \u001b[1;33m=\u001b[0m \u001b[0mA\u001b[0m \u001b[1;33m+\u001b[0m \u001b[0mB\u001b[0m \u001b[1;33m+\u001b[0m \u001b[0mC\u001b[0m\u001b[1;33m\u001b[0m\u001b[1;33m\u001b[0m\u001b[0m\n\u001b[0m",
      "\u001b[1;31mTypeError\u001b[0m: unsupported operand type(s) for +: 'float' and 'str'"
     ]
    }
   ],
   "source": [
    "D = A + B + C"
   ]
  },
  {
   "cell_type": "markdown",
   "id": "3dec7f24",
   "metadata": {},
   "source": [
    "Non è possibile sommare numeri con stringhe. Per creare la variabile richiesta occorre intervenire su C"
   ]
  },
  {
   "cell_type": "code",
   "execution_count": 21,
   "id": "3fbeb2c2",
   "metadata": {},
   "outputs": [
    {
     "name": "stdout",
     "output_type": "stream",
     "text": [
      "12.0\n"
     ]
    }
   ],
   "source": [
    "C = float(C)\n",
    "D = np.sum([A, B, C])\n",
    "print(D)"
   ]
  },
  {
   "cell_type": "markdown",
   "id": "bb087427",
   "metadata": {},
   "source": [
    "6 - Creare la matrice v2 con queste variabili"
   ]
  },
  {
   "cell_type": "code",
   "execution_count": 23,
   "id": "26594b1f",
   "metadata": {},
   "outputs": [
    {
     "name": "stdout",
     "output_type": "stream",
     "text": [
      "[ 3.  2.  7. 12.]\n",
      "<class 'numpy.ndarray'>\n"
     ]
    }
   ],
   "source": [
    "v2 = np.array([A, B, C, D])\n",
    "print(v2)\n",
    "print(type(v2))"
   ]
  },
  {
   "cell_type": "markdown",
   "id": "fd61dfb6",
   "metadata": {},
   "source": [
    "7 - Verifica il tipo della matrice v2"
   ]
  },
  {
   "cell_type": "code",
   "execution_count": 24,
   "id": "e272d369",
   "metadata": {},
   "outputs": [
    {
     "data": {
      "text/plain": [
       "dtype('float64')"
      ]
     },
     "execution_count": 24,
     "metadata": {},
     "output_type": "execute_result"
    }
   ],
   "source": [
    "v2.dtype"
   ]
  },
  {
   "cell_type": "markdown",
   "id": "456903a9",
   "metadata": {},
   "source": [
    "8 - Trovare massimo, minimo e media di v2"
   ]
  },
  {
   "cell_type": "code",
   "execution_count": 25,
   "id": "60fad162",
   "metadata": {},
   "outputs": [
    {
     "name": "stdout",
     "output_type": "stream",
     "text": [
      "12.0\n",
      "2.0\n",
      "6.0\n"
     ]
    }
   ],
   "source": [
    "print(max(v2))\n",
    "print(min(v2))\n",
    "print(np.average(v2))"
   ]
  },
  {
   "cell_type": "markdown",
   "id": "a9ed52fa",
   "metadata": {},
   "source": [
    "### Esercizio 3 - Operzioni sugli array"
   ]
  },
  {
   "cell_type": "markdown",
   "id": "346e3138",
   "metadata": {},
   "source": [
    "1 - Creare il vettore v3 composta dai numeri nell'intervallo 13;25"
   ]
  },
  {
   "cell_type": "code",
   "execution_count": 26,
   "id": "08fb316b",
   "metadata": {},
   "outputs": [
    {
     "name": "stdout",
     "output_type": "stream",
     "text": [
      "[13 14 15 16 17 18 19 20 21 22 23 24 25]\n"
     ]
    }
   ],
   "source": [
    "v3 = np.arange(13,26)\n",
    "print(v3)"
   ]
  },
  {
   "cell_type": "markdown",
   "id": "092fba76",
   "metadata": {},
   "source": [
    "2 - Calcolare media, quadrato e logaritmo degli elementi di v3"
   ]
  },
  {
   "cell_type": "code",
   "execution_count": 27,
   "id": "31ae180a",
   "metadata": {},
   "outputs": [
    {
     "name": "stdout",
     "output_type": "stream",
     "text": [
      "19.0\n",
      "[169 196 225 256 289 324 361 400 441 484 529 576 625]\n",
      "[2.56494936 2.63905733 2.7080502  2.77258872 2.83321334 2.89037176\n",
      " 2.94443898 2.99573227 3.04452244 3.09104245 3.13549422 3.17805383\n",
      " 3.21887582]\n",
      "[1.11394335 1.14612804 1.17609126 1.20411998 1.23044892 1.25527251\n",
      " 1.2787536  1.30103    1.32221929 1.34242268 1.36172784 1.38021124\n",
      " 1.39794001]\n"
     ]
    }
   ],
   "source": [
    "print(np.average(v3))\n",
    "print(np.power(v3,2))\n",
    "print(np.log(v3))\n",
    "print(np.log10(v3))"
   ]
  },
  {
   "cell_type": "markdown",
   "id": "d93df6d2",
   "metadata": {},
   "source": [
    "3 - Eliminare gli elementi in posizione da 3 e 9 dalla matrice v3"
   ]
  },
  {
   "cell_type": "code",
   "execution_count": 29,
   "id": "6b2f0f18",
   "metadata": {},
   "outputs": [
    {
     "name": "stdout",
     "output_type": "stream",
     "text": [
      "[13 14 16 17 18 19 20 22 23 24 25]\n"
     ]
    }
   ],
   "source": [
    "v4 = np.delete(v3, [2,8])\n",
    "print(v4)"
   ]
  },
  {
   "cell_type": "markdown",
   "id": "aca85470",
   "metadata": {},
   "source": [
    "4 - Aggiungere il numero 101 all'inizio di v3"
   ]
  },
  {
   "cell_type": "code",
   "execution_count": 30,
   "id": "ac290563",
   "metadata": {},
   "outputs": [
    {
     "name": "stdout",
     "output_type": "stream",
     "text": [
      "[101  13  14  15  16  17  18  19  20  21  22  23  24  25]\n"
     ]
    }
   ],
   "source": [
    "v5 = np.append(np.array([101]), v3)\n",
    "print(v5)"
   ]
  },
  {
   "cell_type": "markdown",
   "id": "e47db3ce",
   "metadata": {},
   "source": [
    "5 - Aggiungere il numero 5 alla fine di v5"
   ]
  },
  {
   "cell_type": "code",
   "execution_count": 31,
   "id": "e08c82ce",
   "metadata": {},
   "outputs": [
    {
     "name": "stdout",
     "output_type": "stream",
     "text": [
      "[101  13  14  15  16  17  18  19  20  21  22  23  24  25   5]\n"
     ]
    }
   ],
   "source": [
    "v6 = np.append(v5, np.array([5]))\n",
    "print(v6)"
   ]
  },
  {
   "cell_type": "markdown",
   "id": "53a52d56",
   "metadata": {},
   "source": [
    "6 - Creare una  nuova matrice v7 partendo da v6 con i soli elementi maggiori di 15"
   ]
  },
  {
   "cell_type": "code",
   "execution_count": 32,
   "id": "c8ec7f7d",
   "metadata": {},
   "outputs": [
    {
     "name": "stdout",
     "output_type": "stream",
     "text": [
      "[101  15  16  17  18  19  20  21  22  23  24  25]\n"
     ]
    }
   ],
   "source": [
    "v7 = v6[v6 >= 15]\n",
    "print(v7)"
   ]
  },
  {
   "cell_type": "markdown",
   "id": "47990b38",
   "metadata": {},
   "source": [
    "7 - Creare una nuova matrice v8 con gli elementi da 16 a 20 compresi della matrice v6"
   ]
  },
  {
   "cell_type": "code",
   "execution_count": 33,
   "id": "218c7bad",
   "metadata": {},
   "outputs": [
    {
     "name": "stdout",
     "output_type": "stream",
     "text": [
      "[16 17 18 19 20]\n"
     ]
    }
   ],
   "source": [
    "v8 = v6[(v6>=16) & (v6<=20)]\n",
    "print(v8)"
   ]
  },
  {
   "cell_type": "markdown",
   "id": "de441bf7",
   "metadata": {},
   "source": [
    "8 - Aggiungere a v6 la somma degli elementi di v8 "
   ]
  },
  {
   "cell_type": "code",
   "execution_count": 34,
   "id": "5877b8a5",
   "metadata": {},
   "outputs": [
    {
     "name": "stdout",
     "output_type": "stream",
     "text": [
      "[103 104 105 106 107 108 109 110 111 112 113 114 115]\n"
     ]
    }
   ],
   "source": [
    "v9 = np.sum(v8) + v3\n",
    "print(v9)"
   ]
  },
  {
   "cell_type": "markdown",
   "id": "b135812d",
   "metadata": {},
   "source": [
    "9 - Estrarre gli elementi di v9 fino alla settima posizione"
   ]
  },
  {
   "cell_type": "code",
   "execution_count": 35,
   "id": "65271fcc",
   "metadata": {},
   "outputs": [
    {
     "name": "stdout",
     "output_type": "stream",
     "text": [
      "[103 104 105 106 107 108]\n"
     ]
    }
   ],
   "source": [
    "v10 = v9[:6]\n",
    "print(v10)"
   ]
  },
  {
   "cell_type": "code",
   "execution_count": 36,
   "id": "169a8a06",
   "metadata": {},
   "outputs": [
    {
     "name": "stdout",
     "output_type": "stream",
     "text": [
      "[109 110 111 112 113 114 115]\n"
     ]
    }
   ],
   "source": [
    "v11 = v9[6:]\n",
    "print(v11)"
   ]
  },
  {
   "cell_type": "markdown",
   "id": "9830c831",
   "metadata": {},
   "source": [
    "10 - Estrarre gli elementi di v9 dalla seconda alla quinta posizione a intervalli di 2"
   ]
  },
  {
   "cell_type": "code",
   "execution_count": 37,
   "id": "0c40b5e6",
   "metadata": {},
   "outputs": [
    {
     "name": "stdout",
     "output_type": "stream",
     "text": [
      "[104 106]\n"
     ]
    }
   ],
   "source": [
    "v12 = v9[1:5:2]\n",
    "print(v12)"
   ]
  },
  {
   "cell_type": "code",
   "execution_count": 38,
   "id": "532b7305",
   "metadata": {},
   "outputs": [
    {
     "name": "stdout",
     "output_type": "stream",
     "text": [
      "[107 108 109 110 111 112]\n"
     ]
    }
   ],
   "source": [
    "v13 = v9[4:10:1]\n",
    "print(v13)"
   ]
  },
  {
   "cell_type": "markdown",
   "id": "1ceca09c",
   "metadata": {},
   "source": [
    "### Esercizio 4 - Matrice con numeri  casuali"
   ]
  },
  {
   "cell_type": "markdown",
   "id": "da5a43e1",
   "metadata": {},
   "source": [
    "1 - Creare una matrice 1x10 composta da valori casuali compresi fra 1 e 5"
   ]
  },
  {
   "cell_type": "code",
   "execution_count": 39,
   "id": "0c0f725b",
   "metadata": {},
   "outputs": [
    {
     "name": "stdout",
     "output_type": "stream",
     "text": [
      "[2 4 1 1 4 2 4 2 4 1]\n"
     ]
    }
   ],
   "source": [
    "np.random.seed(1)\n",
    "a1 = np.random.choice(np.arange(1,5), size = 10)\n",
    "print(a1)"
   ]
  },
  {
   "cell_type": "markdown",
   "id": "4868bafd",
   "metadata": {},
   "source": [
    "2 - Calcolare il prodotto di tutti i valori di a1"
   ]
  },
  {
   "cell_type": "code",
   "execution_count": 40,
   "id": "8225c080",
   "metadata": {},
   "outputs": [
    {
     "name": "stdout",
     "output_type": "stream",
     "text": [
      "2048\n"
     ]
    }
   ],
   "source": [
    "# primo modo\n",
    "a2 = 1\n",
    "\n",
    "for item in a1:\n",
    "    a2 = a2 * item\n",
    "print(a2)"
   ]
  },
  {
   "cell_type": "code",
   "execution_count": 41,
   "id": "f3a18b55",
   "metadata": {},
   "outputs": [
    {
     "name": "stdout",
     "output_type": "stream",
     "text": [
      "2048\n"
     ]
    }
   ],
   "source": [
    "# secondo modo\n",
    "\n",
    "index = 0\n",
    "a3 = 1\n",
    "while index < len(a1):\n",
    "    a3 = a3 * a1[index]\n",
    "    index += 1\n",
    "    \n",
    "print(a3)"
   ]
  },
  {
   "cell_type": "code",
   "execution_count": 42,
   "id": "173543f4",
   "metadata": {},
   "outputs": [
    {
     "name": "stdout",
     "output_type": "stream",
     "text": [
      "2048\n"
     ]
    }
   ],
   "source": [
    "# controllo\n",
    "print(np.prod(a1))"
   ]
  },
  {
   "cell_type": "markdown",
   "id": "5b731dc7",
   "metadata": {},
   "source": [
    "### Esercizio 5 - File python con all'interno una funzione"
   ]
  },
  {
   "cell_type": "markdown",
   "id": "23a4645a",
   "metadata": {},
   "source": [
    "1 - Creare uno script chiamato trial_function.py\n",
    "2 - All'interno del file creare una funzione chiamata myfunction che calcola un po' di statistiche di una matrice passata come input "
   ]
  },
  {
   "cell_type": "code",
   "execution_count": null,
   "id": "05626178",
   "metadata": {},
   "outputs": [],
   "source": [
    "def my_function(x):\n",
    "\treturn(sum(x), min(x), max(x), np.average(x), np.std(x))\n"
   ]
  },
  {
   "cell_type": "markdown",
   "id": "4e35f6b1",
   "metadata": {},
   "source": [
    "3 - Creare una matrice 1X20 composta da  numeri interi scelti a caso fra 1 e 100\n",
    "4 - Chiamare la funzione da Spyder o Jupiter"
   ]
  },
  {
   "cell_type": "code",
   "execution_count": 43,
   "id": "321d81f9",
   "metadata": {},
   "outputs": [
    {
     "data": {
      "text/plain": [
       "(1186, 10, 89, 59.3, 25.088044961694404)"
      ]
     },
     "execution_count": 43,
     "metadata": {},
     "output_type": "execute_result"
    }
   ],
   "source": [
    "from trial_function import myfunction\n",
    "np.random.seed(0)\n",
    "x = np.random.choice(np.arange(1,100), size = 20)\n",
    "myfunction(x)"
   ]
  },
  {
   "cell_type": "code",
   "execution_count": null,
   "id": "a186ef70",
   "metadata": {},
   "outputs": [],
   "source": []
  },
  {
   "cell_type": "code",
   "execution_count": null,
   "id": "26d24f5c",
   "metadata": {},
   "outputs": [],
   "source": []
  }
 ],
 "metadata": {
  "kernelspec": {
   "display_name": "Python 3",
   "language": "python",
   "name": "python3"
  },
  "language_info": {
   "codemirror_mode": {
    "name": "ipython",
    "version": 3
   },
   "file_extension": ".py",
   "mimetype": "text/x-python",
   "name": "python",
   "nbconvert_exporter": "python",
   "pygments_lexer": "ipython3",
   "version": "3.8.8"
  }
 },
 "nbformat": 4,
 "nbformat_minor": 5
}
